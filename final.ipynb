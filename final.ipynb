{
 "cells": [
  {
   "cell_type": "markdown",
   "metadata": {},
   "source": [
    "# Goal\n",
    "In this rapid times medical professionals wants to get the most accurate and efficient knowledge of diffeerent papers which were published from long ago. Due to such situation there are so many papers are there which we taken as dataset. There is more than 55000 pubished papers and articles inn different journals from all around the world. Our task iis to make clustering thing from which we can make best out of it and categories them in proper clusters."
   ]
  },
  {
   "cell_type": "code",
   "execution_count": 1,
   "metadata": {},
   "outputs": [],
   "source": [
    "import pandas as pd\n",
    "import numpy as np"
   ]
  },
  {
   "cell_type": "code",
   "execution_count": 2,
   "metadata": {},
   "outputs": [],
   "source": [
    "metaData = pd.read_csv('./data/metadata.csv', dtype={'pubmed_id': str, 'Microsoft academic paper id': str, 'doi': str})"
   ]
  },
  {
   "cell_type": "code",
   "execution_count": 3,
   "metadata": {},
   "outputs": [
    {
     "data": {
      "text/plain": [
       "cord_uid                           0\n",
       "sha                            13374\n",
       "source_x                           0\n",
       "title                            158\n",
       "doi                             3340\n",
       "pmcid                           8746\n",
       "pubmed_id                      14340\n",
       "license                            0\n",
       "abstract                        9230\n",
       "publish_time                       8\n",
       "authors                         2279\n",
       "journal                         5242\n",
       "Microsoft Academic Paper ID    51434\n",
       "WHO #Covidence                 50630\n",
       "has_pdf_parse                      0\n",
       "has_pmc_xml_parse                  0\n",
       "full_text_file                  8604\n",
       "url                              302\n",
       "dtype: int64"
      ]
     },
     "execution_count": 3,
     "metadata": {},
     "output_type": "execute_result"
    }
   ],
   "source": [
    "# Checking null values\n",
    "metaData.isna().sum()"
   ]
  },
  {
   "cell_type": "code",
   "execution_count": 4,
   "metadata": {},
   "outputs": [
    {
     "name": "stdout",
     "output_type": "stream",
     "text": [
      "<class 'pandas.core.frame.DataFrame'>\n",
      "RangeIndex: 52398 entries, 0 to 52397\n",
      "Data columns (total 18 columns):\n",
      " #   Column                       Non-Null Count  Dtype  \n",
      "---  ------                       --------------  -----  \n",
      " 0   cord_uid                     52398 non-null  object \n",
      " 1   sha                          39024 non-null  object \n",
      " 2   source_x                     52398 non-null  object \n",
      " 3   title                        52240 non-null  object \n",
      " 4   doi                          49058 non-null  object \n",
      " 5   pmcid                        43652 non-null  object \n",
      " 6   pubmed_id                    38058 non-null  object \n",
      " 7   license                      52398 non-null  object \n",
      " 8   abstract                     43168 non-null  object \n",
      " 9   publish_time                 52390 non-null  object \n",
      " 10  authors                      50119 non-null  object \n",
      " 11  journal                      47156 non-null  object \n",
      " 12  Microsoft Academic Paper ID  964 non-null    float64\n",
      " 13  WHO #Covidence               1768 non-null   object \n",
      " 14  has_pdf_parse                52398 non-null  bool   \n",
      " 15  has_pmc_xml_parse            52398 non-null  bool   \n",
      " 16  full_text_file               43794 non-null  object \n",
      " 17  url                          52096 non-null  object \n",
      "dtypes: bool(2), float64(1), object(15)\n",
      "memory usage: 6.5+ MB\n"
     ]
    }
   ],
   "source": [
    "metaData.info()"
   ]
  },
  {
   "cell_type": "code",
   "execution_count": 5,
   "metadata": {},
   "outputs": [],
   "source": [
    "import glob\n",
    "folder = glob.glob('./data/biorxiv_medrxiv/biorxiv_medrxiv/pdf_json/*.json', recursive=True)\n",
    "folder1 = glob.glob('./data/comm_use_subset/comm_use_subset/pdf_json/*.json', recursive=True)\n",
    "folder2 = glob.glob('./data/comm_use_subset/comm_use_subset/pmc_json/*.json', recursive=True)\n",
    "folder3 = glob.glob('./data/custom_license/custom_license/pdf_json/*.json', recursive=True)\n",
    "folder4 = glob.glob('./data/custom_license/custom_license/pmc_json/*.json', recursive=True)\n",
    "folder5 = glob.glob('./data/noncomm_use_subset/noncomm_use_subset/pdf_json/*.json', recursive=True)\n",
    "folder6 = glob.glob('./data/noncomm_use_subset/noncomm_use_subset/pmc_json/*.json', recursive=True)"
   ]
  },
  {
   "cell_type": "code",
   "execution_count": 6,
   "metadata": {},
   "outputs": [],
   "source": [
    "folder = folder1 + folder2 + folder3 + folder4 + folder5 + folder6\n",
    "all_json = folder"
   ]
  },
  {
   "cell_type": "code",
   "execution_count": 7,
   "metadata": {},
   "outputs": [
    {
     "name": "stdout",
     "output_type": "stream",
     "text": [
      "5e0c586f047ff909c8ed3fe171c8975a90608d08: Background: Porcine epidemic diarrhea virus (PEDV) is emerging as a pathogenic coronavirus that causes a huge economic burden to the swine industry. Interaction of the viral spike (S) surface glycopro... Porcine epidemic diarrhea virus (PEDV), which belongs to the Alphacoronavirus genus of the Coronaviridae family, is an etiological agent of porcine epidemic diarrhea (PED) and causes an enteric diseas...\n"
     ]
    }
   ],
   "source": [
    "import json\n",
    "class FileReader:\n",
    "    def __init__(self, file_path):\n",
    "        with open(file_path) as file:\n",
    "            content = json.load(file)\n",
    "            self.paper_id = content['paper_id']\n",
    "            self.abstract = []\n",
    "            self.body_text = []\n",
    "            # Abstract\n",
    "            for entry in content['abstract']:\n",
    "                self.abstract.append(entry['text'])\n",
    "            # Body text\n",
    "            for entry in content['body_text']:\n",
    "                self.body_text.append(entry['text'])\n",
    "            self.abstract = '\\n'.join(self.abstract)\n",
    "            self.body_text = '\\n'.join(self.body_text)\n",
    "    def __repr__(self):\n",
    "        return f'{self.paper_id}: {self.abstract[:200]}... {self.body_text[:200]}...'\n",
    "first_row = FileReader(all_json[0])\n",
    "print(first_row)"
   ]
  },
  {
   "cell_type": "code",
   "execution_count": 8,
   "metadata": {},
   "outputs": [],
   "source": [
    "def get_breaks(content, length):\n",
    "    data = \"\"\n",
    "    words = content.split(' ')\n",
    "    total_chars = 0\n",
    "\n",
    "    # add break every length characters\n",
    "    for i in range(len(words)):\n",
    "        total_chars += len(words[i])\n",
    "        if total_chars > length:\n",
    "            data = data + \"<br>\" + words[i]\n",
    "            total_chars = 0\n",
    "        else:\n",
    "            data = data + \" \" + words[i]\n",
    "    return data"
   ]
  },
  {
   "cell_type": "code",
   "execution_count": 9,
   "metadata": {},
   "outputs": [],
   "source": [
    "dict_ = {'paper_id': [], 'doi': [], 'abstract': [], 'body_text': [], 'authors': [], 'title': [], 'journal': [], 'abstract_summary': []}"
   ]
  },
  {
   "cell_type": "code",
   "execution_count": 10,
   "metadata": {},
   "outputs": [
    {
     "data": {
      "text/plain": [
       "52398"
      ]
     },
     "execution_count": 10,
     "metadata": {},
     "output_type": "execute_result"
    }
   ],
   "source": [
    "len(metaData)"
   ]
  },
  {
   "cell_type": "code",
   "execution_count": 11,
   "metadata": {},
   "outputs": [
    {
     "name": "stdout",
     "output_type": "stream",
     "text": [
      "Processing index: 0 of 58662\n",
      "Processing index: 5866 of 58662\n",
      "Processing index: 11732 of 58662\n",
      "Processing index: 17598 of 58662\n",
      "Processing index: 23464 of 58662\n",
      "Processing index: 29330 of 58662\n",
      "Processing index: 35196 of 58662\n",
      "Processing index: 41062 of 58662\n",
      "Processing index: 46928 of 58662\n",
      "Processing index: 52794 of 58662\n",
      "Processing index: 58660 of 58662\n"
     ]
    },
    {
     "data": {
      "text/html": [
       "<div>\n",
       "<style scoped>\n",
       "    .dataframe tbody tr th:only-of-type {\n",
       "        vertical-align: middle;\n",
       "    }\n",
       "\n",
       "    .dataframe tbody tr th {\n",
       "        vertical-align: top;\n",
       "    }\n",
       "\n",
       "    .dataframe thead th {\n",
       "        text-align: right;\n",
       "    }\n",
       "</style>\n",
       "<table border=\"1\" class=\"dataframe\">\n",
       "  <thead>\n",
       "    <tr style=\"text-align: right;\">\n",
       "      <th></th>\n",
       "      <th>paper_id</th>\n",
       "      <th>doi</th>\n",
       "      <th>abstract</th>\n",
       "      <th>body_text</th>\n",
       "      <th>authors</th>\n",
       "      <th>title</th>\n",
       "      <th>journal</th>\n",
       "      <th>abstract_summary</th>\n",
       "    </tr>\n",
       "  </thead>\n",
       "  <tbody>\n",
       "    <tr>\n",
       "      <th>0</th>\n",
       "      <td>5e0c586f047ff909c8ed3fe171c8975a90608d08</td>\n",
       "      <td>10.1186/s12985-018-1042-3</td>\n",
       "      <td>Background: Porcine epidemic diarrhea virus (P...</td>\n",
       "      <td>Porcine epidemic diarrhea virus (PEDV), which ...</td>\n",
       "      <td>Gong, Lang.  Lin, Ying.  Qin, Jianru.  Li,&lt;br...</td>\n",
       "      <td>Neutralizing antibodies against porcine&lt;br&gt;ep...</td>\n",
       "      <td>Virol J</td>\n",
       "      <td>Background: Porcine epidemic diarrhea virus&lt;b...</td>\n",
       "    </tr>\n",
       "    <tr>\n",
       "      <th>1</th>\n",
       "      <td>1579fbff7af9b156c6f49fee0526e48f852ea460</td>\n",
       "      <td>10.1038/s41598-018-30356-2</td>\n",
       "      <td>Currently, live-attenuated IBV vaccines are us...</td>\n",
       "      <td>Generation of rNDVs expressing S1, S2 or S pro...</td>\n",
       "      <td>Shirvani, Edris.  Paldurai, Anandan. &lt;br&gt;Mano...</td>\n",
       "      <td>A Recombinant Newcastle Disease Virus (NDV)&lt;b...</td>\n",
       "      <td>Sci Rep</td>\n",
       "      <td>Currently, live-attenuated IBV vaccines are&lt;b...</td>\n",
       "    </tr>\n",
       "    <tr>\n",
       "      <th>2</th>\n",
       "      <td>e0668c4b793d0cad26639b070819334a94648123</td>\n",
       "      <td>10.3399/bjgpopen18x101493</td>\n",
       "      <td></td>\n",
       "      <td>The incidence of complete Achilles tendon rupt...</td>\n",
       "      <td>Mughal, Faraz.  Chew-Graham, Carolyn A.  Saad...</td>\n",
       "      <td>‘Hajj: what it means for general practice’</td>\n",
       "      <td>BJGP Open</td>\n",
       "      <td>Not provided.</td>\n",
       "    </tr>\n",
       "    <tr>\n",
       "      <th>3</th>\n",
       "      <td>38aa050ad79d8a1d7022c33535255ce9d47914e5</td>\n",
       "      <td>10.1371/journal.pntd.0002933</td>\n",
       "      <td>The new world arenavirus Junín virus (JUNV) is...</td>\n",
       "      <td>Arenaviruses are enveloped RNA viruses with bi...</td>\n",
       "      <td>Huang, Cheng.  Walker, Aida G..  Grant, Ashle...</td>\n",
       "      <td>Potent Inhibition of Junín Virus Infection by...</td>\n",
       "      <td>PLoS Negl Trop Dis</td>\n",
       "      <td>The new world arenavirus Junín virus (JUNV) i...</td>\n",
       "    </tr>\n",
       "    <tr>\n",
       "      <th>4</th>\n",
       "      <td>61722c462b054f36461375e96e502cbf22648c04</td>\n",
       "      <td>10.1038/s41598-019-45095-1</td>\n",
       "      <td>and subtropical countries and is a significant...</td>\n",
       "      <td>In this study, the anti-dengue activity of nic...</td>\n",
       "      <td>Jung, Eunhye.  Nam, Sangwoo.  Oh, Hyeryeon.  ...</td>\n",
       "      <td>Neutralization of Acidic Intracellular&lt;br&gt;Ves...</td>\n",
       "      <td>Sci Rep</td>\n",
       "      <td>and subtropical countries and is a significan...</td>\n",
       "    </tr>\n",
       "  </tbody>\n",
       "</table>\n",
       "</div>"
      ],
      "text/plain": [
       "                                   paper_id                           doi  \\\n",
       "0  5e0c586f047ff909c8ed3fe171c8975a90608d08     10.1186/s12985-018-1042-3   \n",
       "1  1579fbff7af9b156c6f49fee0526e48f852ea460    10.1038/s41598-018-30356-2   \n",
       "2  e0668c4b793d0cad26639b070819334a94648123     10.3399/bjgpopen18x101493   \n",
       "3  38aa050ad79d8a1d7022c33535255ce9d47914e5  10.1371/journal.pntd.0002933   \n",
       "4  61722c462b054f36461375e96e502cbf22648c04    10.1038/s41598-019-45095-1   \n",
       "\n",
       "                                            abstract  \\\n",
       "0  Background: Porcine epidemic diarrhea virus (P...   \n",
       "1  Currently, live-attenuated IBV vaccines are us...   \n",
       "2                                                      \n",
       "3  The new world arenavirus Junín virus (JUNV) is...   \n",
       "4  and subtropical countries and is a significant...   \n",
       "\n",
       "                                           body_text  \\\n",
       "0  Porcine epidemic diarrhea virus (PEDV), which ...   \n",
       "1  Generation of rNDVs expressing S1, S2 or S pro...   \n",
       "2  The incidence of complete Achilles tendon rupt...   \n",
       "3  Arenaviruses are enveloped RNA viruses with bi...   \n",
       "4  In this study, the anti-dengue activity of nic...   \n",
       "\n",
       "                                             authors  \\\n",
       "0   Gong, Lang.  Lin, Ying.  Qin, Jianru.  Li,<br...   \n",
       "1   Shirvani, Edris.  Paldurai, Anandan. <br>Mano...   \n",
       "2   Mughal, Faraz.  Chew-Graham, Carolyn A.  Saad...   \n",
       "3   Huang, Cheng.  Walker, Aida G..  Grant, Ashle...   \n",
       "4   Jung, Eunhye.  Nam, Sangwoo.  Oh, Hyeryeon.  ...   \n",
       "\n",
       "                                               title             journal  \\\n",
       "0   Neutralizing antibodies against porcine<br>ep...             Virol J   \n",
       "1   A Recombinant Newcastle Disease Virus (NDV)<b...             Sci Rep   \n",
       "2         ‘Hajj: what it means for general practice’           BJGP Open   \n",
       "3   Potent Inhibition of Junín Virus Infection by...  PLoS Negl Trop Dis   \n",
       "4   Neutralization of Acidic Intracellular<br>Ves...             Sci Rep   \n",
       "\n",
       "                                    abstract_summary  \n",
       "0   Background: Porcine epidemic diarrhea virus<b...  \n",
       "1   Currently, live-attenuated IBV vaccines are<b...  \n",
       "2                                      Not provided.  \n",
       "3   The new world arenavirus Junín virus (JUNV) i...  \n",
       "4   and subtropical countries and is a significan...  "
      ]
     },
     "execution_count": 11,
     "metadata": {},
     "output_type": "execute_result"
    }
   ],
   "source": [
    "meta_df = metaData\n",
    "dict_ = {'paper_id': [], 'doi':[], 'abstract': [], 'body_text': [], 'authors': [], 'title': [], 'journal': [], 'abstract_summary': []}\n",
    "for idx, entry in enumerate(all_json):\n",
    "    if idx % (len(all_json) // 10) == 0:\n",
    "        print(f'Processing index: {idx} of {len(all_json)}')\n",
    "    \n",
    "    try:\n",
    "        content = FileReader(entry)\n",
    "    except Exception as e:\n",
    "        continue  # invalid paper format, skip\n",
    "    \n",
    "    # get metadata information\n",
    "    meta_data = meta_df.loc[meta_df['sha'] == content.paper_id]\n",
    "    # no metadata, skip this paper\n",
    "    if len(meta_data) == 0:\n",
    "        continue\n",
    "    \n",
    "    dict_['abstract'].append(content.abstract)\n",
    "    dict_['paper_id'].append(content.paper_id)\n",
    "    dict_['body_text'].append(content.body_text)\n",
    "    \n",
    "    # also create a column for the summary of abstract to be used in a plot\n",
    "    if len(content.abstract) == 0: \n",
    "        # no abstract provided\n",
    "        dict_['abstract_summary'].append(\"Not provided.\")\n",
    "    elif len(content.abstract.split(' ')) > 100:\n",
    "        # abstract provided is too long for plot, take first 100 words append with ...\n",
    "        info = content.abstract.split(' ')[:100]\n",
    "        summary = get_breaks(' '.join(info), 40)\n",
    "        dict_['abstract_summary'].append(summary + \"...\")\n",
    "    else:\n",
    "        # abstract is short enough\n",
    "        summary = get_breaks(content.abstract, 40)\n",
    "        dict_['abstract_summary'].append(summary)\n",
    "        \n",
    "    # get metadata information\n",
    "    meta_data = meta_df.loc[meta_df['sha'] == content.paper_id]\n",
    "    \n",
    "    try:\n",
    "        # if more than one author\n",
    "        authors = meta_data['authors'].values[0].split(';')\n",
    "        if len(authors) > 2:\n",
    "            # if more than 2 authors, take them all with html tag breaks in between\n",
    "            dict_['authors'].append(get_breaks('. '.join(authors), 40))\n",
    "        else:\n",
    "            # authors will fit in plot\n",
    "            dict_['authors'].append(\". \".join(authors))\n",
    "    except Exception as e:\n",
    "        # if only one author - or Null valie\n",
    "        dict_['authors'].append(meta_data['authors'].values[0])\n",
    "    \n",
    "    # add the title information, add breaks when needed\n",
    "    try:\n",
    "        title = get_breaks(meta_data['title'].values[0], 40)\n",
    "        dict_['title'].append(title)\n",
    "    # if title was not provided\n",
    "    except Exception as e:\n",
    "        dict_['title'].append(meta_data['title'].values[0])\n",
    "    \n",
    "    # add the journal information\n",
    "    dict_['journal'].append(meta_data['journal'].values[0])\n",
    "    \n",
    "    # add doi\n",
    "    dict_['doi'].append(meta_data['doi'].values[0])\n",
    "    \n",
    "df_covid = pd.DataFrame(dict_, columns=['paper_id', 'doi', 'abstract', 'body_text', 'authors', 'title', 'journal', 'abstract_summary'])\n",
    "df_covid.head()"
   ]
  },
  {
   "cell_type": "code",
   "execution_count": 12,
   "metadata": {},
   "outputs": [
    {
     "data": {
      "text/html": [
       "<div>\n",
       "<style scoped>\n",
       "    .dataframe tbody tr th:only-of-type {\n",
       "        vertical-align: middle;\n",
       "    }\n",
       "\n",
       "    .dataframe tbody tr th {\n",
       "        vertical-align: top;\n",
       "    }\n",
       "\n",
       "    .dataframe thead th {\n",
       "        text-align: right;\n",
       "    }\n",
       "</style>\n",
       "<table border=\"1\" class=\"dataframe\">\n",
       "  <thead>\n",
       "    <tr style=\"text-align: right;\">\n",
       "      <th></th>\n",
       "      <th>paper_id</th>\n",
       "      <th>doi</th>\n",
       "      <th>abstract</th>\n",
       "      <th>body_text</th>\n",
       "      <th>authors</th>\n",
       "      <th>title</th>\n",
       "      <th>journal</th>\n",
       "      <th>abstract_summary</th>\n",
       "    </tr>\n",
       "  </thead>\n",
       "  <tbody>\n",
       "    <tr>\n",
       "      <th>0</th>\n",
       "      <td>5e0c586f047ff909c8ed3fe171c8975a90608d08</td>\n",
       "      <td>10.1186/s12985-018-1042-3</td>\n",
       "      <td>Background: Porcine epidemic diarrhea virus (P...</td>\n",
       "      <td>Porcine epidemic diarrhea virus (PEDV), which ...</td>\n",
       "      <td>Gong, Lang.  Lin, Ying.  Qin, Jianru.  Li,&lt;br...</td>\n",
       "      <td>Neutralizing antibodies against porcine&lt;br&gt;ep...</td>\n",
       "      <td>Virol J</td>\n",
       "      <td>Background: Porcine epidemic diarrhea virus&lt;b...</td>\n",
       "    </tr>\n",
       "    <tr>\n",
       "      <th>1</th>\n",
       "      <td>1579fbff7af9b156c6f49fee0526e48f852ea460</td>\n",
       "      <td>10.1038/s41598-018-30356-2</td>\n",
       "      <td>Currently, live-attenuated IBV vaccines are us...</td>\n",
       "      <td>Generation of rNDVs expressing S1, S2 or S pro...</td>\n",
       "      <td>Shirvani, Edris.  Paldurai, Anandan. &lt;br&gt;Mano...</td>\n",
       "      <td>A Recombinant Newcastle Disease Virus (NDV)&lt;b...</td>\n",
       "      <td>Sci Rep</td>\n",
       "      <td>Currently, live-attenuated IBV vaccines are&lt;b...</td>\n",
       "    </tr>\n",
       "    <tr>\n",
       "      <th>2</th>\n",
       "      <td>e0668c4b793d0cad26639b070819334a94648123</td>\n",
       "      <td>10.3399/bjgpopen18x101493</td>\n",
       "      <td></td>\n",
       "      <td>The incidence of complete Achilles tendon rupt...</td>\n",
       "      <td>Mughal, Faraz.  Chew-Graham, Carolyn A.  Saad...</td>\n",
       "      <td>‘Hajj: what it means for general practice’</td>\n",
       "      <td>BJGP Open</td>\n",
       "      <td>Not provided.</td>\n",
       "    </tr>\n",
       "    <tr>\n",
       "      <th>3</th>\n",
       "      <td>38aa050ad79d8a1d7022c33535255ce9d47914e5</td>\n",
       "      <td>10.1371/journal.pntd.0002933</td>\n",
       "      <td>The new world arenavirus Junín virus (JUNV) is...</td>\n",
       "      <td>Arenaviruses are enveloped RNA viruses with bi...</td>\n",
       "      <td>Huang, Cheng.  Walker, Aida G..  Grant, Ashle...</td>\n",
       "      <td>Potent Inhibition of Junín Virus Infection by...</td>\n",
       "      <td>PLoS Negl Trop Dis</td>\n",
       "      <td>The new world arenavirus Junín virus (JUNV) i...</td>\n",
       "    </tr>\n",
       "    <tr>\n",
       "      <th>4</th>\n",
       "      <td>61722c462b054f36461375e96e502cbf22648c04</td>\n",
       "      <td>10.1038/s41598-019-45095-1</td>\n",
       "      <td>and subtropical countries and is a significant...</td>\n",
       "      <td>In this study, the anti-dengue activity of nic...</td>\n",
       "      <td>Jung, Eunhye.  Nam, Sangwoo.  Oh, Hyeryeon.  ...</td>\n",
       "      <td>Neutralization of Acidic Intracellular&lt;br&gt;Ves...</td>\n",
       "      <td>Sci Rep</td>\n",
       "      <td>and subtropical countries and is a significan...</td>\n",
       "    </tr>\n",
       "  </tbody>\n",
       "</table>\n",
       "</div>"
      ],
      "text/plain": [
       "                                   paper_id                           doi  \\\n",
       "0  5e0c586f047ff909c8ed3fe171c8975a90608d08     10.1186/s12985-018-1042-3   \n",
       "1  1579fbff7af9b156c6f49fee0526e48f852ea460    10.1038/s41598-018-30356-2   \n",
       "2  e0668c4b793d0cad26639b070819334a94648123     10.3399/bjgpopen18x101493   \n",
       "3  38aa050ad79d8a1d7022c33535255ce9d47914e5  10.1371/journal.pntd.0002933   \n",
       "4  61722c462b054f36461375e96e502cbf22648c04    10.1038/s41598-019-45095-1   \n",
       "\n",
       "                                            abstract  \\\n",
       "0  Background: Porcine epidemic diarrhea virus (P...   \n",
       "1  Currently, live-attenuated IBV vaccines are us...   \n",
       "2                                                      \n",
       "3  The new world arenavirus Junín virus (JUNV) is...   \n",
       "4  and subtropical countries and is a significant...   \n",
       "\n",
       "                                           body_text  \\\n",
       "0  Porcine epidemic diarrhea virus (PEDV), which ...   \n",
       "1  Generation of rNDVs expressing S1, S2 or S pro...   \n",
       "2  The incidence of complete Achilles tendon rupt...   \n",
       "3  Arenaviruses are enveloped RNA viruses with bi...   \n",
       "4  In this study, the anti-dengue activity of nic...   \n",
       "\n",
       "                                             authors  \\\n",
       "0   Gong, Lang.  Lin, Ying.  Qin, Jianru.  Li,<br...   \n",
       "1   Shirvani, Edris.  Paldurai, Anandan. <br>Mano...   \n",
       "2   Mughal, Faraz.  Chew-Graham, Carolyn A.  Saad...   \n",
       "3   Huang, Cheng.  Walker, Aida G..  Grant, Ashle...   \n",
       "4   Jung, Eunhye.  Nam, Sangwoo.  Oh, Hyeryeon.  ...   \n",
       "\n",
       "                                               title             journal  \\\n",
       "0   Neutralizing antibodies against porcine<br>ep...             Virol J   \n",
       "1   A Recombinant Newcastle Disease Virus (NDV)<b...             Sci Rep   \n",
       "2         ‘Hajj: what it means for general practice’           BJGP Open   \n",
       "3   Potent Inhibition of Junín Virus Infection by...  PLoS Negl Trop Dis   \n",
       "4   Neutralization of Acidic Intracellular<br>Ves...             Sci Rep   \n",
       "\n",
       "                                    abstract_summary  \n",
       "0   Background: Porcine epidemic diarrhea virus<b...  \n",
       "1   Currently, live-attenuated IBV vaccines are<b...  \n",
       "2                                      Not provided.  \n",
       "3   The new world arenavirus Junín virus (JUNV) i...  \n",
       "4   and subtropical countries and is a significan...  "
      ]
     },
     "execution_count": 12,
     "metadata": {},
     "output_type": "execute_result"
    }
   ],
   "source": [
    "df_covid = pd.DataFrame(dict_, columns=['paper_id', 'doi', 'abstract', 'body_text', 'authors', 'title', 'journal', 'abstract_summary'])\n",
    "df_covid.head()"
   ]
  },
  {
   "cell_type": "code",
   "execution_count": 13,
   "metadata": {},
   "outputs": [],
   "source": [
    "df_covid['abstracrt_count'] = df_covid['abstract'].apply(lambda x: len(x.strip().split()))\n",
    "df_covid['body_count'] = df_covid['body_text'].apply(lambda x: len(x.strip().split()))\n",
    "df_covid['body_unique_words'] = df_covid['body_text'].apply(lambda x: len(set(str(x).split())))"
   ]
  },
  {
   "cell_type": "code",
   "execution_count": 14,
   "metadata": {},
   "outputs": [
    {
     "name": "stdout",
     "output_type": "stream",
     "text": [
      "<class 'pandas.core.frame.DataFrame'>\n",
      "RangeIndex: 35023 entries, 0 to 35022\n",
      "Data columns (total 11 columns):\n",
      " #   Column             Non-Null Count  Dtype \n",
      "---  ------             --------------  ----- \n",
      " 0   paper_id           35023 non-null  object\n",
      " 1   doi                34685 non-null  object\n",
      " 2   abstract           35023 non-null  object\n",
      " 3   body_text          35023 non-null  object\n",
      " 4   authors            34423 non-null  object\n",
      " 5   title              34987 non-null  object\n",
      " 6   journal            34854 non-null  object\n",
      " 7   abstract_summary   35023 non-null  object\n",
      " 8   abstracrt_count    35023 non-null  int64 \n",
      " 9   body_count         35023 non-null  int64 \n",
      " 10  body_unique_words  35023 non-null  int64 \n",
      "dtypes: int64(3), object(8)\n",
      "memory usage: 2.9+ MB\n"
     ]
    }
   ],
   "source": [
    "df_covid.info()"
   ]
  },
  {
   "cell_type": "code",
   "execution_count": 15,
   "metadata": {},
   "outputs": [
    {
     "data": {
      "text/plain": [
       "count     35023\n",
       "unique    25126\n",
       "top            \n",
       "freq       9847\n",
       "Name: abstract, dtype: object"
      ]
     },
     "execution_count": 15,
     "metadata": {},
     "output_type": "execute_result"
    }
   ],
   "source": [
    "df_covid['abstract'].describe(include='all')"
   ]
  },
  {
   "cell_type": "code",
   "execution_count": 16,
   "metadata": {},
   "outputs": [
    {
     "data": {
      "text/plain": [
       "count     35000\n",
       "unique    25126\n",
       "top            \n",
       "freq       9835\n",
       "Name: abstract, dtype: object"
      ]
     },
     "execution_count": 16,
     "metadata": {},
     "output_type": "execute_result"
    }
   ],
   "source": [
    "df_covid.drop_duplicates(['abstract', 'body_text'], inplace=True)\n",
    "df_covid['abstract'].describe(include='all')"
   ]
  },
  {
   "cell_type": "code",
   "execution_count": 17,
   "metadata": {},
   "outputs": [
    {
     "data": {
      "text/plain": [
       "count                                                 35000\n",
       "unique                                                34994\n",
       "top       Severe acute respiratory syndrome (SARS) first...\n",
       "freq                                                      2\n",
       "Name: body_text, dtype: object"
      ]
     },
     "execution_count": 17,
     "metadata": {},
     "output_type": "execute_result"
    }
   ],
   "source": [
    "df_covid['body_text'].describe(include='all')"
   ]
  },
  {
   "cell_type": "code",
   "execution_count": 18,
   "metadata": {},
   "outputs": [
    {
     "data": {
      "text/html": [
       "<div>\n",
       "<style scoped>\n",
       "    .dataframe tbody tr th:only-of-type {\n",
       "        vertical-align: middle;\n",
       "    }\n",
       "\n",
       "    .dataframe tbody tr th {\n",
       "        vertical-align: top;\n",
       "    }\n",
       "\n",
       "    .dataframe thead th {\n",
       "        text-align: right;\n",
       "    }\n",
       "</style>\n",
       "<table border=\"1\" class=\"dataframe\">\n",
       "  <thead>\n",
       "    <tr style=\"text-align: right;\">\n",
       "      <th></th>\n",
       "      <th>paper_id</th>\n",
       "      <th>doi</th>\n",
       "      <th>abstract</th>\n",
       "      <th>body_text</th>\n",
       "      <th>authors</th>\n",
       "      <th>title</th>\n",
       "      <th>journal</th>\n",
       "      <th>abstract_summary</th>\n",
       "      <th>abstracrt_count</th>\n",
       "      <th>body_count</th>\n",
       "      <th>body_unique_words</th>\n",
       "    </tr>\n",
       "  </thead>\n",
       "  <tbody>\n",
       "    <tr>\n",
       "      <th>0</th>\n",
       "      <td>5e0c586f047ff909c8ed3fe171c8975a90608d08</td>\n",
       "      <td>10.1186/s12985-018-1042-3</td>\n",
       "      <td>Background: Porcine epidemic diarrhea virus (P...</td>\n",
       "      <td>Porcine epidemic diarrhea virus (PEDV), which ...</td>\n",
       "      <td>Gong, Lang.  Lin, Ying.  Qin, Jianru.  Li,&lt;br...</td>\n",
       "      <td>Neutralizing antibodies against porcine&lt;br&gt;ep...</td>\n",
       "      <td>Virol J</td>\n",
       "      <td>Background: Porcine epidemic diarrhea virus&lt;b...</td>\n",
       "      <td>211</td>\n",
       "      <td>3824</td>\n",
       "      <td>1310</td>\n",
       "    </tr>\n",
       "    <tr>\n",
       "      <th>1</th>\n",
       "      <td>1579fbff7af9b156c6f49fee0526e48f852ea460</td>\n",
       "      <td>10.1038/s41598-018-30356-2</td>\n",
       "      <td>Currently, live-attenuated IBV vaccines are us...</td>\n",
       "      <td>Generation of rNDVs expressing S1, S2 or S pro...</td>\n",
       "      <td>Shirvani, Edris.  Paldurai, Anandan. &lt;br&gt;Mano...</td>\n",
       "      <td>A Recombinant Newcastle Disease Virus (NDV)&lt;b...</td>\n",
       "      <td>Sci Rep</td>\n",
       "      <td>Currently, live-attenuated IBV vaccines are&lt;b...</td>\n",
       "      <td>945</td>\n",
       "      <td>7372</td>\n",
       "      <td>1257</td>\n",
       "    </tr>\n",
       "    <tr>\n",
       "      <th>2</th>\n",
       "      <td>e0668c4b793d0cad26639b070819334a94648123</td>\n",
       "      <td>10.3399/bjgpopen18x101493</td>\n",
       "      <td></td>\n",
       "      <td>The incidence of complete Achilles tendon rupt...</td>\n",
       "      <td>Mughal, Faraz.  Chew-Graham, Carolyn A.  Saad...</td>\n",
       "      <td>‘Hajj: what it means for general practice’</td>\n",
       "      <td>BJGP Open</td>\n",
       "      <td>Not provided.</td>\n",
       "      <td>0</td>\n",
       "      <td>2972</td>\n",
       "      <td>1099</td>\n",
       "    </tr>\n",
       "    <tr>\n",
       "      <th>3</th>\n",
       "      <td>38aa050ad79d8a1d7022c33535255ce9d47914e5</td>\n",
       "      <td>10.1371/journal.pntd.0002933</td>\n",
       "      <td>The new world arenavirus Junín virus (JUNV) is...</td>\n",
       "      <td>Arenaviruses are enveloped RNA viruses with bi...</td>\n",
       "      <td>Huang, Cheng.  Walker, Aida G..  Grant, Ashle...</td>\n",
       "      <td>Potent Inhibition of Junín Virus Infection by...</td>\n",
       "      <td>PLoS Negl Trop Dis</td>\n",
       "      <td>The new world arenavirus Junín virus (JUNV) i...</td>\n",
       "      <td>160</td>\n",
       "      <td>3194</td>\n",
       "      <td>1096</td>\n",
       "    </tr>\n",
       "    <tr>\n",
       "      <th>4</th>\n",
       "      <td>61722c462b054f36461375e96e502cbf22648c04</td>\n",
       "      <td>10.1038/s41598-019-45095-1</td>\n",
       "      <td>and subtropical countries and is a significant...</td>\n",
       "      <td>In this study, the anti-dengue activity of nic...</td>\n",
       "      <td>Jung, Eunhye.  Nam, Sangwoo.  Oh, Hyeryeon.  ...</td>\n",
       "      <td>Neutralization of Acidic Intracellular&lt;br&gt;Ves...</td>\n",
       "      <td>Sci Rep</td>\n",
       "      <td>and subtropical countries and is a significan...</td>\n",
       "      <td>897</td>\n",
       "      <td>4095</td>\n",
       "      <td>1238</td>\n",
       "    </tr>\n",
       "  </tbody>\n",
       "</table>\n",
       "</div>"
      ],
      "text/plain": [
       "                                   paper_id                           doi  \\\n",
       "0  5e0c586f047ff909c8ed3fe171c8975a90608d08     10.1186/s12985-018-1042-3   \n",
       "1  1579fbff7af9b156c6f49fee0526e48f852ea460    10.1038/s41598-018-30356-2   \n",
       "2  e0668c4b793d0cad26639b070819334a94648123     10.3399/bjgpopen18x101493   \n",
       "3  38aa050ad79d8a1d7022c33535255ce9d47914e5  10.1371/journal.pntd.0002933   \n",
       "4  61722c462b054f36461375e96e502cbf22648c04    10.1038/s41598-019-45095-1   \n",
       "\n",
       "                                            abstract  \\\n",
       "0  Background: Porcine epidemic diarrhea virus (P...   \n",
       "1  Currently, live-attenuated IBV vaccines are us...   \n",
       "2                                                      \n",
       "3  The new world arenavirus Junín virus (JUNV) is...   \n",
       "4  and subtropical countries and is a significant...   \n",
       "\n",
       "                                           body_text  \\\n",
       "0  Porcine epidemic diarrhea virus (PEDV), which ...   \n",
       "1  Generation of rNDVs expressing S1, S2 or S pro...   \n",
       "2  The incidence of complete Achilles tendon rupt...   \n",
       "3  Arenaviruses are enveloped RNA viruses with bi...   \n",
       "4  In this study, the anti-dengue activity of nic...   \n",
       "\n",
       "                                             authors  \\\n",
       "0   Gong, Lang.  Lin, Ying.  Qin, Jianru.  Li,<br...   \n",
       "1   Shirvani, Edris.  Paldurai, Anandan. <br>Mano...   \n",
       "2   Mughal, Faraz.  Chew-Graham, Carolyn A.  Saad...   \n",
       "3   Huang, Cheng.  Walker, Aida G..  Grant, Ashle...   \n",
       "4   Jung, Eunhye.  Nam, Sangwoo.  Oh, Hyeryeon.  ...   \n",
       "\n",
       "                                               title             journal  \\\n",
       "0   Neutralizing antibodies against porcine<br>ep...             Virol J   \n",
       "1   A Recombinant Newcastle Disease Virus (NDV)<b...             Sci Rep   \n",
       "2         ‘Hajj: what it means for general practice’           BJGP Open   \n",
       "3   Potent Inhibition of Junín Virus Infection by...  PLoS Negl Trop Dis   \n",
       "4   Neutralization of Acidic Intracellular<br>Ves...             Sci Rep   \n",
       "\n",
       "                                    abstract_summary  abstracrt_count  \\\n",
       "0   Background: Porcine epidemic diarrhea virus<b...              211   \n",
       "1   Currently, live-attenuated IBV vaccines are<b...              945   \n",
       "2                                      Not provided.                0   \n",
       "3   The new world arenavirus Junín virus (JUNV) i...              160   \n",
       "4   and subtropical countries and is a significan...              897   \n",
       "\n",
       "   body_count  body_unique_words  \n",
       "0        3824               1310  \n",
       "1        7372               1257  \n",
       "2        2972               1099  \n",
       "3        3194               1096  \n",
       "4        4095               1238  "
      ]
     },
     "execution_count": 18,
     "metadata": {},
     "output_type": "execute_result"
    }
   ],
   "source": [
    "df_covid.head()"
   ]
  },
  {
   "cell_type": "code",
   "execution_count": 19,
   "metadata": {},
   "outputs": [
    {
     "data": {
      "text/html": [
       "<div>\n",
       "<style scoped>\n",
       "    .dataframe tbody tr th:only-of-type {\n",
       "        vertical-align: middle;\n",
       "    }\n",
       "\n",
       "    .dataframe tbody tr th {\n",
       "        vertical-align: top;\n",
       "    }\n",
       "\n",
       "    .dataframe thead th {\n",
       "        text-align: right;\n",
       "    }\n",
       "</style>\n",
       "<table border=\"1\" class=\"dataframe\">\n",
       "  <thead>\n",
       "    <tr style=\"text-align: right;\">\n",
       "      <th></th>\n",
       "      <th>abstracrt_count</th>\n",
       "      <th>body_count</th>\n",
       "      <th>body_unique_words</th>\n",
       "    </tr>\n",
       "  </thead>\n",
       "  <tbody>\n",
       "    <tr>\n",
       "      <th>count</th>\n",
       "      <td>35000.000000</td>\n",
       "      <td>35000.000000</td>\n",
       "      <td>35000.000000</td>\n",
       "    </tr>\n",
       "    <tr>\n",
       "      <th>mean</th>\n",
       "      <td>155.885857</td>\n",
       "      <td>4748.334543</td>\n",
       "      <td>1437.995229</td>\n",
       "    </tr>\n",
       "    <tr>\n",
       "      <th>std</th>\n",
       "      <td>157.350459</td>\n",
       "      <td>7035.270559</td>\n",
       "      <td>1187.604975</td>\n",
       "    </tr>\n",
       "    <tr>\n",
       "      <th>min</th>\n",
       "      <td>0.000000</td>\n",
       "      <td>1.000000</td>\n",
       "      <td>1.000000</td>\n",
       "    </tr>\n",
       "    <tr>\n",
       "      <th>25%</th>\n",
       "      <td>0.000000</td>\n",
       "      <td>2388.000000</td>\n",
       "      <td>909.000000</td>\n",
       "    </tr>\n",
       "    <tr>\n",
       "      <th>50%</th>\n",
       "      <td>155.000000</td>\n",
       "      <td>3678.000000</td>\n",
       "      <td>1250.000000</td>\n",
       "    </tr>\n",
       "    <tr>\n",
       "      <th>75%</th>\n",
       "      <td>233.000000</td>\n",
       "      <td>5499.000000</td>\n",
       "      <td>1694.000000</td>\n",
       "    </tr>\n",
       "    <tr>\n",
       "      <th>max</th>\n",
       "      <td>4767.000000</td>\n",
       "      <td>260378.000000</td>\n",
       "      <td>38298.000000</td>\n",
       "    </tr>\n",
       "  </tbody>\n",
       "</table>\n",
       "</div>"
      ],
      "text/plain": [
       "       abstracrt_count     body_count  body_unique_words\n",
       "count     35000.000000   35000.000000       35000.000000\n",
       "mean        155.885857    4748.334543        1437.995229\n",
       "std         157.350459    7035.270559        1187.604975\n",
       "min           0.000000       1.000000           1.000000\n",
       "25%           0.000000    2388.000000         909.000000\n",
       "50%         155.000000    3678.000000        1250.000000\n",
       "75%         233.000000    5499.000000        1694.000000\n",
       "max        4767.000000  260378.000000       38298.000000"
      ]
     },
     "execution_count": 19,
     "metadata": {},
     "output_type": "execute_result"
    }
   ],
   "source": [
    "df_covid.describe()"
   ]
  },
  {
   "cell_type": "code",
   "execution_count": 20,
   "metadata": {},
   "outputs": [],
   "source": [
    "df = df_covid\n",
    "del df_covid"
   ]
  },
  {
   "cell_type": "code",
   "execution_count": 21,
   "metadata": {},
   "outputs": [
    {
     "data": {
      "text/html": [
       "<div>\n",
       "<style scoped>\n",
       "    .dataframe tbody tr th:only-of-type {\n",
       "        vertical-align: middle;\n",
       "    }\n",
       "\n",
       "    .dataframe tbody tr th {\n",
       "        vertical-align: top;\n",
       "    }\n",
       "\n",
       "    .dataframe thead th {\n",
       "        text-align: right;\n",
       "    }\n",
       "</style>\n",
       "<table border=\"1\" class=\"dataframe\">\n",
       "  <thead>\n",
       "    <tr style=\"text-align: right;\">\n",
       "      <th></th>\n",
       "      <th>paper_id</th>\n",
       "      <th>doi</th>\n",
       "      <th>abstract</th>\n",
       "      <th>body_text</th>\n",
       "      <th>authors</th>\n",
       "      <th>title</th>\n",
       "      <th>journal</th>\n",
       "      <th>abstract_summary</th>\n",
       "      <th>abstracrt_count</th>\n",
       "      <th>body_count</th>\n",
       "      <th>body_unique_words</th>\n",
       "    </tr>\n",
       "  </thead>\n",
       "  <tbody>\n",
       "    <tr>\n",
       "      <th>0</th>\n",
       "      <td>5e0c586f047ff909c8ed3fe171c8975a90608d08</td>\n",
       "      <td>10.1186/s12985-018-1042-3</td>\n",
       "      <td>Background: Porcine epidemic diarrhea virus (P...</td>\n",
       "      <td>Porcine epidemic diarrhea virus (PEDV), which ...</td>\n",
       "      <td>Gong, Lang.  Lin, Ying.  Qin, Jianru.  Li,&lt;br...</td>\n",
       "      <td>Neutralizing antibodies against porcine&lt;br&gt;ep...</td>\n",
       "      <td>Virol J</td>\n",
       "      <td>Background: Porcine epidemic diarrhea virus&lt;b...</td>\n",
       "      <td>211</td>\n",
       "      <td>3824</td>\n",
       "      <td>1310</td>\n",
       "    </tr>\n",
       "    <tr>\n",
       "      <th>1</th>\n",
       "      <td>1579fbff7af9b156c6f49fee0526e48f852ea460</td>\n",
       "      <td>10.1038/s41598-018-30356-2</td>\n",
       "      <td>Currently, live-attenuated IBV vaccines are us...</td>\n",
       "      <td>Generation of rNDVs expressing S1, S2 or S pro...</td>\n",
       "      <td>Shirvani, Edris.  Paldurai, Anandan. &lt;br&gt;Mano...</td>\n",
       "      <td>A Recombinant Newcastle Disease Virus (NDV)&lt;b...</td>\n",
       "      <td>Sci Rep</td>\n",
       "      <td>Currently, live-attenuated IBV vaccines are&lt;b...</td>\n",
       "      <td>945</td>\n",
       "      <td>7372</td>\n",
       "      <td>1257</td>\n",
       "    </tr>\n",
       "    <tr>\n",
       "      <th>2</th>\n",
       "      <td>e0668c4b793d0cad26639b070819334a94648123</td>\n",
       "      <td>10.3399/bjgpopen18x101493</td>\n",
       "      <td></td>\n",
       "      <td>The incidence of complete Achilles tendon rupt...</td>\n",
       "      <td>Mughal, Faraz.  Chew-Graham, Carolyn A.  Saad...</td>\n",
       "      <td>‘Hajj: what it means for general practice’</td>\n",
       "      <td>BJGP Open</td>\n",
       "      <td>Not provided.</td>\n",
       "      <td>0</td>\n",
       "      <td>2972</td>\n",
       "      <td>1099</td>\n",
       "    </tr>\n",
       "    <tr>\n",
       "      <th>3</th>\n",
       "      <td>38aa050ad79d8a1d7022c33535255ce9d47914e5</td>\n",
       "      <td>10.1371/journal.pntd.0002933</td>\n",
       "      <td>The new world arenavirus Junín virus (JUNV) is...</td>\n",
       "      <td>Arenaviruses are enveloped RNA viruses with bi...</td>\n",
       "      <td>Huang, Cheng.  Walker, Aida G..  Grant, Ashle...</td>\n",
       "      <td>Potent Inhibition of Junín Virus Infection by...</td>\n",
       "      <td>PLoS Negl Trop Dis</td>\n",
       "      <td>The new world arenavirus Junín virus (JUNV) i...</td>\n",
       "      <td>160</td>\n",
       "      <td>3194</td>\n",
       "      <td>1096</td>\n",
       "    </tr>\n",
       "    <tr>\n",
       "      <th>4</th>\n",
       "      <td>61722c462b054f36461375e96e502cbf22648c04</td>\n",
       "      <td>10.1038/s41598-019-45095-1</td>\n",
       "      <td>and subtropical countries and is a significant...</td>\n",
       "      <td>In this study, the anti-dengue activity of nic...</td>\n",
       "      <td>Jung, Eunhye.  Nam, Sangwoo.  Oh, Hyeryeon.  ...</td>\n",
       "      <td>Neutralization of Acidic Intracellular&lt;br&gt;Ves...</td>\n",
       "      <td>Sci Rep</td>\n",
       "      <td>and subtropical countries and is a significan...</td>\n",
       "      <td>897</td>\n",
       "      <td>4095</td>\n",
       "      <td>1238</td>\n",
       "    </tr>\n",
       "    <tr>\n",
       "      <th>...</th>\n",
       "      <td>...</td>\n",
       "      <td>...</td>\n",
       "      <td>...</td>\n",
       "      <td>...</td>\n",
       "      <td>...</td>\n",
       "      <td>...</td>\n",
       "      <td>...</td>\n",
       "      <td>...</td>\n",
       "      <td>...</td>\n",
       "      <td>...</td>\n",
       "      <td>...</td>\n",
       "    </tr>\n",
       "    <tr>\n",
       "      <th>35018</th>\n",
       "      <td>ea5d20e07d05c8b241f90e6429f3daaacc844ecd</td>\n",
       "      <td>10.1128/mbio.00166-11</td>\n",
       "      <td>All positive-strand RNA viruses induce membran...</td>\n",
       "      <td>Enteroviruses (family Picornaviridae) represen...</td>\n",
       "      <td>Limpens, Ronald W. A. L..  van der Schaar, Hi...</td>\n",
       "      <td>The Transformation of Enterovirus&lt;br&gt;Replicat...</td>\n",
       "      <td>mBio</td>\n",
       "      <td>All positive-strand RNA viruses induce&lt;br&gt;mem...</td>\n",
       "      <td>354</td>\n",
       "      <td>4443</td>\n",
       "      <td>1645</td>\n",
       "    </tr>\n",
       "    <tr>\n",
       "      <th>35019</th>\n",
       "      <td>3b5c43f1068e79db27adaca5df0bd717851c37cc</td>\n",
       "      <td>10.7150/jca.10631</td>\n",
       "      <td>J Jo ou ur rn na al l o of f C Ca an nc ce er ...</td>\n",
       "      <td>A better understanding of disease associated w...</td>\n",
       "      <td>Wang, Jinlian.  Zuo, Yiming.  Man, Yan-gao. &lt;...</td>\n",
       "      <td>Pathway and Network Approaches for&lt;br&gt;Identif...</td>\n",
       "      <td>J Cancer</td>\n",
       "      <td>J Jo ou ur rn na al l o of f C Ca an nc ce er...</td>\n",
       "      <td>124</td>\n",
       "      <td>5379</td>\n",
       "      <td>1962</td>\n",
       "    </tr>\n",
       "    <tr>\n",
       "      <th>35020</th>\n",
       "      <td>d1b24d21f2004ee1ed983d5fd7526ff2809443e6</td>\n",
       "      <td>10.1080/21645515.2017.1356497</td>\n",
       "      <td>The One Health initiative is increasingly beco...</td>\n",
       "      <td>The One Health initiative, formerly known as O...</td>\n",
       "      <td>Rybicki, Edward Peter</td>\n",
       "      <td>Plant-made vaccines and reagents for the One&lt;...</td>\n",
       "      <td>Hum Vaccin Immunother</td>\n",
       "      <td>The One Health initiative is increasingly&lt;br&gt;...</td>\n",
       "      <td>177</td>\n",
       "      <td>3735</td>\n",
       "      <td>1420</td>\n",
       "    </tr>\n",
       "    <tr>\n",
       "      <th>35021</th>\n",
       "      <td>b66f94ce35f66aa3ce423a16a7e6c814966786d2</td>\n",
       "      <td>10.1292/jvms.19-0090</td>\n",
       "      <td>The Feline coronavirus (FCoV) can lead to Feli...</td>\n",
       "      <td>doi: 10 .1292/jvms. jaundice, recurrent fever,...</td>\n",
       "      <td>MYRRHA, Luciana Wanderley.  SILVA, Fernanda&lt;b...</td>\n",
       "      <td>Feline coronavirus isolates from a part of&lt;br...</td>\n",
       "      <td>J Vet Med Sci</td>\n",
       "      <td>The Feline coronavirus (FCoV) can lead to&lt;br&gt;...</td>\n",
       "      <td>423</td>\n",
       "      <td>2293</td>\n",
       "      <td>882</td>\n",
       "    </tr>\n",
       "    <tr>\n",
       "      <th>35022</th>\n",
       "      <td>9ee72a92dba63a2f7ba385612fa69e180dc8ab09</td>\n",
       "      <td>NaN</td>\n",
       "      <td>With over 4,500 deaths and counting, and new c...</td>\n",
       "      <td>In September and October, 2014, the United Sta...</td>\n",
       "      <td>Azuine, Romuladus E..  Ekejiuba, Sussan E.. &lt;...</td>\n",
       "      <td>Ebola Virus Disease Epidemic: What Can the&lt;br...</td>\n",
       "      <td>Int J MCH AIDS</td>\n",
       "      <td>With over 4,500 deaths and counting, and new&lt;...</td>\n",
       "      <td>135</td>\n",
       "      <td>1984</td>\n",
       "      <td>836</td>\n",
       "    </tr>\n",
       "  </tbody>\n",
       "</table>\n",
       "<p>35000 rows × 11 columns</p>\n",
       "</div>"
      ],
      "text/plain": [
       "                                       paper_id  \\\n",
       "0      5e0c586f047ff909c8ed3fe171c8975a90608d08   \n",
       "1      1579fbff7af9b156c6f49fee0526e48f852ea460   \n",
       "2      e0668c4b793d0cad26639b070819334a94648123   \n",
       "3      38aa050ad79d8a1d7022c33535255ce9d47914e5   \n",
       "4      61722c462b054f36461375e96e502cbf22648c04   \n",
       "...                                         ...   \n",
       "35018  ea5d20e07d05c8b241f90e6429f3daaacc844ecd   \n",
       "35019  3b5c43f1068e79db27adaca5df0bd717851c37cc   \n",
       "35020  d1b24d21f2004ee1ed983d5fd7526ff2809443e6   \n",
       "35021  b66f94ce35f66aa3ce423a16a7e6c814966786d2   \n",
       "35022  9ee72a92dba63a2f7ba385612fa69e180dc8ab09   \n",
       "\n",
       "                                 doi  \\\n",
       "0          10.1186/s12985-018-1042-3   \n",
       "1         10.1038/s41598-018-30356-2   \n",
       "2          10.3399/bjgpopen18x101493   \n",
       "3       10.1371/journal.pntd.0002933   \n",
       "4         10.1038/s41598-019-45095-1   \n",
       "...                              ...   \n",
       "35018          10.1128/mbio.00166-11   \n",
       "35019              10.7150/jca.10631   \n",
       "35020  10.1080/21645515.2017.1356497   \n",
       "35021           10.1292/jvms.19-0090   \n",
       "35022                            NaN   \n",
       "\n",
       "                                                abstract  \\\n",
       "0      Background: Porcine epidemic diarrhea virus (P...   \n",
       "1      Currently, live-attenuated IBV vaccines are us...   \n",
       "2                                                          \n",
       "3      The new world arenavirus Junín virus (JUNV) is...   \n",
       "4      and subtropical countries and is a significant...   \n",
       "...                                                  ...   \n",
       "35018  All positive-strand RNA viruses induce membran...   \n",
       "35019  J Jo ou ur rn na al l o of f C Ca an nc ce er ...   \n",
       "35020  The One Health initiative is increasingly beco...   \n",
       "35021  The Feline coronavirus (FCoV) can lead to Feli...   \n",
       "35022  With over 4,500 deaths and counting, and new c...   \n",
       "\n",
       "                                               body_text  \\\n",
       "0      Porcine epidemic diarrhea virus (PEDV), which ...   \n",
       "1      Generation of rNDVs expressing S1, S2 or S pro...   \n",
       "2      The incidence of complete Achilles tendon rupt...   \n",
       "3      Arenaviruses are enveloped RNA viruses with bi...   \n",
       "4      In this study, the anti-dengue activity of nic...   \n",
       "...                                                  ...   \n",
       "35018  Enteroviruses (family Picornaviridae) represen...   \n",
       "35019  A better understanding of disease associated w...   \n",
       "35020  The One Health initiative, formerly known as O...   \n",
       "35021  doi: 10 .1292/jvms. jaundice, recurrent fever,...   \n",
       "35022  In September and October, 2014, the United Sta...   \n",
       "\n",
       "                                                 authors  \\\n",
       "0       Gong, Lang.  Lin, Ying.  Qin, Jianru.  Li,<br...   \n",
       "1       Shirvani, Edris.  Paldurai, Anandan. <br>Mano...   \n",
       "2       Mughal, Faraz.  Chew-Graham, Carolyn A.  Saad...   \n",
       "3       Huang, Cheng.  Walker, Aida G..  Grant, Ashle...   \n",
       "4       Jung, Eunhye.  Nam, Sangwoo.  Oh, Hyeryeon.  ...   \n",
       "...                                                  ...   \n",
       "35018   Limpens, Ronald W. A. L..  van der Schaar, Hi...   \n",
       "35019   Wang, Jinlian.  Zuo, Yiming.  Man, Yan-gao. <...   \n",
       "35020                              Rybicki, Edward Peter   \n",
       "35021   MYRRHA, Luciana Wanderley.  SILVA, Fernanda<b...   \n",
       "35022   Azuine, Romuladus E..  Ekejiuba, Sussan E.. <...   \n",
       "\n",
       "                                                   title  \\\n",
       "0       Neutralizing antibodies against porcine<br>ep...   \n",
       "1       A Recombinant Newcastle Disease Virus (NDV)<b...   \n",
       "2             ‘Hajj: what it means for general practice’   \n",
       "3       Potent Inhibition of Junín Virus Infection by...   \n",
       "4       Neutralization of Acidic Intracellular<br>Ves...   \n",
       "...                                                  ...   \n",
       "35018   The Transformation of Enterovirus<br>Replicat...   \n",
       "35019   Pathway and Network Approaches for<br>Identif...   \n",
       "35020   Plant-made vaccines and reagents for the One<...   \n",
       "35021   Feline coronavirus isolates from a part of<br...   \n",
       "35022   Ebola Virus Disease Epidemic: What Can the<br...   \n",
       "\n",
       "                     journal  \\\n",
       "0                    Virol J   \n",
       "1                    Sci Rep   \n",
       "2                  BJGP Open   \n",
       "3         PLoS Negl Trop Dis   \n",
       "4                    Sci Rep   \n",
       "...                      ...   \n",
       "35018                   mBio   \n",
       "35019               J Cancer   \n",
       "35020  Hum Vaccin Immunother   \n",
       "35021          J Vet Med Sci   \n",
       "35022         Int J MCH AIDS   \n",
       "\n",
       "                                        abstract_summary  abstracrt_count  \\\n",
       "0       Background: Porcine epidemic diarrhea virus<b...              211   \n",
       "1       Currently, live-attenuated IBV vaccines are<b...              945   \n",
       "2                                          Not provided.                0   \n",
       "3       The new world arenavirus Junín virus (JUNV) i...              160   \n",
       "4       and subtropical countries and is a significan...              897   \n",
       "...                                                  ...              ...   \n",
       "35018   All positive-strand RNA viruses induce<br>mem...              354   \n",
       "35019   J Jo ou ur rn na al l o of f C Ca an nc ce er...              124   \n",
       "35020   The One Health initiative is increasingly<br>...              177   \n",
       "35021   The Feline coronavirus (FCoV) can lead to<br>...              423   \n",
       "35022   With over 4,500 deaths and counting, and new<...              135   \n",
       "\n",
       "       body_count  body_unique_words  \n",
       "0            3824               1310  \n",
       "1            7372               1257  \n",
       "2            2972               1099  \n",
       "3            3194               1096  \n",
       "4            4095               1238  \n",
       "...           ...                ...  \n",
       "35018        4443               1645  \n",
       "35019        5379               1962  \n",
       "35020        3735               1420  \n",
       "35021        2293                882  \n",
       "35022        1984                836  \n",
       "\n",
       "[35000 rows x 11 columns]"
      ]
     },
     "execution_count": 21,
     "metadata": {},
     "output_type": "execute_result"
    }
   ],
   "source": [
    "df"
   ]
  },
  {
   "cell_type": "code",
   "execution_count": 22,
   "metadata": {},
   "outputs": [
    {
     "name": "stdout",
     "output_type": "stream",
     "text": [
      "<class 'pandas.core.frame.DataFrame'>\n",
      "Int64Index: 34023 entries, 0 to 35021\n",
      "Data columns (total 11 columns):\n",
      " #   Column             Non-Null Count  Dtype \n",
      "---  ------             --------------  ----- \n",
      " 0   paper_id           34023 non-null  object\n",
      " 1   doi                34023 non-null  object\n",
      " 2   abstract           34023 non-null  object\n",
      " 3   body_text          34023 non-null  object\n",
      " 4   authors            34023 non-null  object\n",
      " 5   title              34023 non-null  object\n",
      " 6   journal            34023 non-null  object\n",
      " 7   abstract_summary   34023 non-null  object\n",
      " 8   abstracrt_count    34023 non-null  int64 \n",
      " 9   body_count         34023 non-null  int64 \n",
      " 10  body_unique_words  34023 non-null  int64 \n",
      "dtypes: int64(3), object(8)\n",
      "memory usage: 3.1+ MB\n"
     ]
    }
   ],
   "source": [
    "df.dropna(inplace=True)\n",
    "df.info()"
   ]
  },
  {
   "cell_type": "code",
   "execution_count": 23,
   "metadata": {},
   "outputs": [
    {
     "name": "stderr",
     "output_type": "stream",
     "text": [
      "100%|██████████| 34023/34023 [03:16<00:00, 173.31it/s]\n"
     ]
    }
   ],
   "source": [
    "from tqdm import tqdm\n",
    "from langdetect import detect\n",
    "from langdetect import DetectorFactory\n",
    "\n",
    "DetectorFactory.seed = 0\n",
    "\n",
    "languages = []\n",
    "for ii in tqdm(range(0, len(df))):\n",
    "    text = df.iloc[ii]['body_text'].split(\" \")\n",
    "    lang = 'en'\n",
    "    try:\n",
    "        if len(text) > 50:\n",
    "            lang = detect(\" \".join(text[:50]))\n",
    "        elif len(text) > 0:\n",
    "            lang = detect(\" \".join(text[:len(text)]))\n",
    "    except Exception as e:\n",
    "        all_words = set(text)\n",
    "        try:\n",
    "            lang = detect(' '.join(all_words))\n",
    "        except Exception as e:\n",
    "            try:\n",
    "                lang = detect(df.iloc[ii]['abstract_summary'])\n",
    "            except Exception as e:\n",
    "                lang = 'unknown'\n",
    "                pass\n",
    "    languages.append(lang)"
   ]
  },
  {
   "cell_type": "code",
   "execution_count": 105,
   "metadata": {},
   "outputs": [
    {
     "data": {
      "text/plain": [
       "(10150, 14)"
      ]
     },
     "execution_count": 105,
     "metadata": {},
     "output_type": "execute_result"
    }
   ],
   "source": [
    "newData.shape"
   ]
  },
  {
   "cell_type": "code",
   "execution_count": null,
   "metadata": {},
   "outputs": [],
   "source": []
  },
  {
   "cell_type": "code",
   "execution_count": 28,
   "metadata": {},
   "outputs": [
    {
     "name": "stdout",
     "output_type": "stream",
     "text": [
      "Total: 8533\n",
      "\n",
      "{'en': 8529, 'es': 1, 'fr': 1, 'pt': 2}\n"
     ]
    }
   ],
   "source": [
    "from pprint import pprint\n",
    "\n",
    "languages_dict = {}\n",
    "for lang in set(languages):\n",
    "    languages_dict[lang] = languages.count(lang)\n",
    "print(f'Total: {len(languages)}\\n')\n",
    "pprint(languages_dict)"
   ]
  },
  {
   "cell_type": "code",
   "execution_count": 29,
   "metadata": {},
   "outputs": [],
   "source": [
    "# Papers distribution by their language\n",
    "import matplotlib.pyplot as plt\n",
    "df['languages'] = languages\n",
    "dictLang = df['languages'].value_counts().to_dict()\n",
    "keys = []\n",
    "values = []\n",
    "for key, value in dictLang.items():\n",
    "    keys.append(key)\n",
    "    values.append(value)"
   ]
  },
  {
   "cell_type": "markdown",
   "metadata": {},
   "source": [
    "### As we can see significantly that most of the papers are published in english language."
   ]
  },
  {
   "cell_type": "code",
   "execution_count": 30,
   "metadata": {},
   "outputs": [
    {
     "data": {
      "image/png": "[encoded data removed]",
      "text/plain": [
       "<Figure size 432x288 with 1 Axes>"
      ]
     },
     "metadata": {
      "needs_background": "light"
     },
     "output_type": "display_data"
    }
   ],
   "source": [
    "plt.bar(keys, values)\n",
    "plt.title('Language distribution')\n",
    "plt.xlabel('Language', fontsize = 15)\n",
    "plt.ylabel('Paper count', fontsize = 15)\n",
    "plt.show()"
   ]
  },
  {
   "cell_type": "code",
   "execution_count": 31,
   "metadata": {},
   "outputs": [],
   "source": [
    "# For simplicity we are dropping all non-english papers\n",
    "# We are dropping 840 papers.\n",
    "dfEnglish = df[df['languages'] == 'en']"
   ]
  },
  {
   "cell_type": "code",
   "execution_count": 32,
   "metadata": {},
   "outputs": [],
   "source": [
    "# Download spacy library.\n",
    "# Spacy refernce: https://spacy.io\n",
    "from spacy.lang.en.stop_words import STOP_WORDS\n",
    "import en_core_web_lg"
   ]
  },
  {
   "cell_type": "code",
   "execution_count": 33,
   "metadata": {},
   "outputs": [],
   "source": [
    "# Stop words contain no meaning and due to that they create overhead while creating row vector. \n",
    "# So to remove them is one of the important step in text pre-precessing"
   ]
  },
  {
   "cell_type": "code",
   "execution_count": 34,
   "metadata": {},
   "outputs": [
    {
     "name": "stdout",
     "output_type": "stream",
     "text": [
      "There are total 326 stop words in this set.\n"
     ]
    }
   ],
   "source": [
    "print(f\"There are total {len(STOP_WORDS)} stop words in this set.\")"
   ]
  },
  {
   "cell_type": "code",
   "execution_count": 35,
   "metadata": {},
   "outputs": [],
   "source": [
    "import string\n",
    "punct = string.punctuation\n",
    "stopWords = list(STOP_WORDS)\n",
    "parser = en_core_web_lg.load(disable=[\"tagger\", \"ner\"])\n",
    "parser.max_length = 7000000\n",
    "\n",
    "def spacy_tokenizer(sentence):\n",
    "    mytokens = parser(sentence)\n",
    "    mytokens = [ word.lemma_.lower().strip() if word.lemma_ != \"-PRON-\" else word.lower_ for word in mytokens ]\n",
    "    mytokens = [ word for word in mytokens if word not in stopWords and word not in punct ]\n",
    "    mytokens = \" \".join([i for i in mytokens])\n",
    "    return mytokens"
   ]
  },
  {
   "cell_type": "code",
   "execution_count": 36,
   "metadata": {},
   "outputs": [],
   "source": [
    "# We are taking only first 100 data because of very heavy data processing\n",
    "#dfEnglish = dfEnglish[:100]"
   ]
  },
  {
   "cell_type": "code",
   "execution_count": 24,
   "metadata": {},
   "outputs": [],
   "source": [
    "import pandas as pd\n",
    "dfEnglish = pd.read_csv('./data/intermediate1.csv')"
   ]
  },
  {
   "cell_type": "code",
   "execution_count": 25,
   "metadata": {},
   "outputs": [],
   "source": [
    "import seaborn as sns"
   ]
  },
  {
   "cell_type": "code",
   "execution_count": 26,
   "metadata": {},
   "outputs": [
    {
     "data": {
      "text/plain": [
       "<matplotlib.axes._subplots.AxesSubplot at 0x1efa5e3c8>"
      ]
     },
     "execution_count": 26,
     "metadata": {},
     "output_type": "execute_result"
    },
    {
     "data": {
      "image/png": "[encoded data removed]",
      "text/plain": [
       "<Figure size 432x288 with 1 Axes>"
      ]
     },
     "metadata": {
      "needs_background": "light"
     },
     "output_type": "display_data"
    }
   ],
   "source": [
    "# Word count in papers after removing stop words\n",
    "sns.distplot(dfEnglish['body_count'])"
   ]
  },
  {
   "cell_type": "code",
   "execution_count": 27,
   "metadata": {},
   "outputs": [
    {
     "data": {
      "text/plain": [
       "<matplotlib.axes._subplots.AxesSubplot at 0x10cd4c358>"
      ]
     },
     "execution_count": 27,
     "metadata": {},
     "output_type": "execute_result"
    },
    {
     "data": {
      "image/png": "[encoded data removed]",
      "text/plain": [
       "<Figure size 432x288 with 1 Axes>"
      ]
     },
     "metadata": {
      "needs_background": "light"
     },
     "output_type": "display_data"
    }
   ],
   "source": [
    "# Unique words\n",
    "sns.distplot(dfEnglish['body_count'])"
   ]
  },
  {
   "cell_type": "code",
   "execution_count": 28,
   "metadata": {},
   "outputs": [
    {
     "data": {
      "text/plain": [
       "<matplotlib.axes._subplots.AxesSubplot at 0x1f1808c18>"
      ]
     },
     "execution_count": 28,
     "metadata": {},
     "output_type": "execute_result"
    },
    {
     "data": {
      "image/png": "[encoded data removed]",
      "text/plain": [
       "<Figure size 432x288 with 1 Axes>"
      ]
     },
     "metadata": {
      "needs_background": "light"
     },
     "output_type": "display_data"
    }
   ],
   "source": [
    "sns.distplot(dfEnglish['body_unique_words'])"
   ]
  },
  {
   "cell_type": "code",
   "execution_count": 1,
   "metadata": {},
   "outputs": [],
   "source": [
    "import pandas as pd\n",
    "dfEnglish = pd.read_csv('./data/intermediate1.csv')\n",
    "dfEnglish = dfEnglish[:5000]"
   ]
  },
  {
   "cell_type": "code",
   "execution_count": 2,
   "metadata": {},
   "outputs": [
    {
     "data": {
      "text/plain": [
       "(5000, 14)"
      ]
     },
     "execution_count": 2,
     "metadata": {},
     "output_type": "execute_result"
    }
   ],
   "source": [
    "dfEnglish.shape"
   ]
  },
  {
   "cell_type": "code",
   "execution_count": 3,
   "metadata": {},
   "outputs": [],
   "source": [
    "# Create vectorizer\n",
    "from sklearn.feature_extraction.text import TfidfVectorizer\n",
    "def vectorize(data, maxFeature):\n",
    "    vectorize = TfidfVectorizer(maxFeature)\n",
    "    return vectorize.fit_transform(data)"
   ]
  },
  {
   "cell_type": "code",
   "execution_count": 4,
   "metadata": {},
   "outputs": [
    {
     "data": {
      "text/plain": [
       "(5000, 196613)"
      ]
     },
     "execution_count": 4,
     "metadata": {},
     "output_type": "execute_result"
    }
   ],
   "source": [
    "text = dfEnglish['processed_text'].values\n",
    "X = vectorize(text, 2 ** 12)\n",
    "X.shape"
   ]
  },
  {
   "cell_type": "code",
   "execution_count": null,
   "metadata": {},
   "outputs": [],
   "source": [
    "# We have to remove some of the data and reducee some dimensions\n",
    "from sklearn.decomposition import PCA\n",
    "# We have tp select some components and random state will be tuned according to the time and cores\n",
    "# As you increase the number of cores it will take some more time painfully, there is more chance that \n",
    "# it will take hours\n",
    "pca = PCA(n_components=0.95, random_state= 42)\n",
    "xReduce = pca.fit_transform(X.toarray())\n",
    "xReduce.shape"
   ]
  },
  {
   "cell_type": "code",
   "execution_count": null,
   "metadata": {},
   "outputs": [],
   "source": [
    "# Now we enters in the final stage of our NLP project \n",
    "# We are going to build classification model using KMeans"
   ]
  },
  {
   "cell_type": "code",
   "execution_count": null,
   "metadata": {},
   "outputs": [],
   "source": [
    "from sklearn.cluster import KMeans\n",
    "from sklearn import metrics\n",
    "from scipy.spatial.distance import cdist"
   ]
  },
  {
   "cell_type": "code",
   "execution_count": null,
   "metadata": {},
   "outputs": [],
   "source": [
    "# run kmeans with many different k\n",
    "distortions = []\n",
    "K = range(2, 50)\n",
    "for k in K:\n",
    "    k_means = KMeans(n_clusters=k, random_state=42, n_jobs=-1).fit(xReduce)\n",
    "    k_means.fit(xReduce)\n",
    "    distortions.append(sum(np.min(cdist(xReduce, k_means.cluster_centers_, 'euclidean'), axis=1)) / X.shape[0])\n",
    "    #print('Found distortion for {} clusters'.format(k))"
   ]
  },
  {
   "cell_type": "code",
   "execution_count": null,
   "metadata": {},
   "outputs": [],
   "source": [
    "k = 20\n",
    "kmeans = KMeans(n_clusters=k, random_state=42, n_jobs=-1)\n",
    "y_pred = kmeans.fit_predict(xReduce)\n",
    "dfEnglish['y'] = y_pred"
   ]
  },
  {
   "cell_type": "code",
   "execution_count": null,
   "metadata": {},
   "outputs": [],
   "source": [
    "from sklearn.manifold import TSNE\n",
    "tsne = TSNE(verbose=1, perplexity=100, random_state=42)\n",
    "X_embedded = tsne.fit_transform(X.toarray())"
   ]
  },
  {
   "cell_type": "code",
   "execution_count": null,
   "metadata": {},
   "outputs": [],
   "source": [
    "from matplotlib import pyplot as plt\n",
    "import seaborn as sns\n",
    "\n",
    "# sns settings\n",
    "sns.set(rc={'figure.figsize':(15,15)})\n",
    "\n",
    "# colors\n",
    "palette = sns.color_palette(\"bright\", 1)\n",
    "\n",
    "# plot\n",
    "sns.scatterplot(X_embedded[:,0], X_embedded[:,1], palette=palette)\n",
    "plt.title('t-SNE with no Labels')\n",
    "# plt.savefig(\"./t-sne_covid19.png\")\n",
    "plt.show()"
   ]
  },
  {
   "cell_type": "code",
   "execution_count": null,
   "metadata": {},
   "outputs": [],
   "source": [
    "%matplotlib inline\n",
    "from matplotlib import pyplot as plt\n",
    "import seaborn as sns\n",
    "sns.set(rc={'figure.figsize':(15, 15)})\n",
    "palette = sns.hls_palette(20, l=.4, s=.9)\n",
    "sns.scatterplot(X_embedded[:,0], X_embedded[:,1], hue=y_pred, legend='full', palette=palette)\n",
    "plt.title('t-SNE with Kmeans Labels')\n",
    "# plt.savefig(\"./improved_cluster_tsne.png\")\n",
    "plt.show()"
   ]
  },
  {
   "cell_type": "code",
   "execution_count": null,
   "metadata": {},
   "outputs": [],
   "source": []
  }
 ],
 "metadata": {
  "kernelspec": {
   "display_name": "Python 3",
   "language": "python",
   "name": "python3"
  },
  "language_info": {
   "codemirror_mode": {
    "name": "ipython",
    "version": 3
   },
   "file_extension": ".py",
   "mimetype": "text/x-python",
   "name": "python",
   "nbconvert_exporter": "python",
   "pygments_lexer": "ipython3",
   "version": "3.7.3"
  }
 },
 "nbformat": 4,
 "nbformat_minor": 4
}
