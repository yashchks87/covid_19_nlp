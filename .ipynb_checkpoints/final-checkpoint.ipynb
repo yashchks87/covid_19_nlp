{
 "cells": [
  {
   "cell_type": "markdown",
   "metadata": {},
   "source": [
    "# Goal\n",
    "In this rapid times medical professionals wants to get the most accurate and efficient knowledge of diffeerent papers which were published from long ago. Due to such situation there are so many papers are there which we taken as dataset. There is more than 55000 pubished papers and articles inn different journals from all around the world. Our task iis to make clustering thing from which we can make best out of it and categories them in proper clusters."
   ]
  },
  {
   "cell_type": "code",
   "execution_count": 1,
   "metadata": {},
   "outputs": [],
   "source": [
    "import pandas as pd\n",
    "import numpy as np"
   ]
  },
  {
   "cell_type": "code",
   "execution_count": 2,
   "metadata": {},
   "outputs": [],
   "source": [
    "metaData = pd.read_csv('./metadata.csv', dtype={'pubmed_id': str, 'Microsoft academic paper id': str, 'doi': str})"
   ]
  },
  {
   "cell_type": "code",
   "execution_count": 3,
   "metadata": {},
   "outputs": [
    {
     "data": {
      "text/plain": [
       "cord_uid                           0\n",
       "sha                            13374\n",
       "source_x                           0\n",
       "title                            158\n",
       "doi                             3340\n",
       "pmcid                           8746\n",
       "pubmed_id                      14340\n",
       "license                            0\n",
       "abstract                        9230\n",
       "publish_time                       8\n",
       "authors                         2279\n",
       "journal                         5242\n",
       "Microsoft Academic Paper ID    51434\n",
       "WHO #Covidence                 50630\n",
       "has_pdf_parse                      0\n",
       "has_pmc_xml_parse                  0\n",
       "full_text_file                  8604\n",
       "url                              302\n",
       "dtype: int64"
      ]
     },
     "execution_count": 3,
     "metadata": {},
     "output_type": "execute_result"
    }
   ],
   "source": [
    "# Checking null values\n",
    "metaData.isna().sum()"
   ]
  },
  {
   "cell_type": "code",
   "execution_count": 4,
   "metadata": {},
   "outputs": [
    {
     "name": "stdout",
     "output_type": "stream",
     "text": [
      "<class 'pandas.core.frame.DataFrame'>\n",
      "RangeIndex: 52398 entries, 0 to 52397\n",
      "Data columns (total 18 columns):\n",
      " #   Column                       Non-Null Count  Dtype  \n",
      "---  ------                       --------------  -----  \n",
      " 0   cord_uid                     52398 non-null  object \n",
      " 1   sha                          39024 non-null  object \n",
      " 2   source_x                     52398 non-null  object \n",
      " 3   title                        52240 non-null  object \n",
      " 4   doi                          49058 non-null  object \n",
      " 5   pmcid                        43652 non-null  object \n",
      " 6   pubmed_id                    38058 non-null  object \n",
      " 7   license                      52398 non-null  object \n",
      " 8   abstract                     43168 non-null  object \n",
      " 9   publish_time                 52390 non-null  object \n",
      " 10  authors                      50119 non-null  object \n",
      " 11  journal                      47156 non-null  object \n",
      " 12  Microsoft Academic Paper ID  964 non-null    float64\n",
      " 13  WHO #Covidence               1768 non-null   object \n",
      " 14  has_pdf_parse                52398 non-null  bool   \n",
      " 15  has_pmc_xml_parse            52398 non-null  bool   \n",
      " 16  full_text_file               43794 non-null  object \n",
      " 17  url                          52096 non-null  object \n",
      "dtypes: bool(2), float64(1), object(15)\n",
      "memory usage: 6.5+ MB\n"
     ]
    }
   ],
   "source": [
    "metaData.info()"
   ]
  },
  {
   "cell_type": "code",
   "execution_count": 5,
   "metadata": {},
   "outputs": [],
   "source": [
    "import glob\n",
    "folder = glob.glob('./biorxiv_medrxiv/biorxiv_medrxiv/pdf_json/*.json', recursive=True)\n",
    "folder1 = glob.glob('./comm_use_subset/comm_use_subset/pdf_json/*.json', recursive=True)\n",
    "folder2 = glob.glob('./comm_use_subset/comm_use_subset/pmc_json/*.json', recursive=True)\n",
    "folder3 = glob.glob('./custom_license/custom_license/pdf_json/*.json', recursive=True)\n",
    "folder4 = glob.glob('./custom_license/custom_license/pmc_json/*.json', recursive=True)\n",
    "folder5 = glob.glob('./noncomm_use_subset/noncomm_use_subset/pdf_json/*.json', recursive=True)\n",
    "folder6 = glob.glob('./noncomm_use_subset/noncomm_use_subset/pmc_json/*.json', recursive=True)"
   ]
  },
  {
   "cell_type": "code",
   "execution_count": 6,
   "metadata": {},
   "outputs": [],
   "source": [
    "folder = folder1 + folder2 + folder3 + folder4 + folder5 + folder6\n",
    "all_json = folder"
   ]
  },
  {
   "cell_type": "code",
   "execution_count": 7,
   "metadata": {},
   "outputs": [
    {
     "name": "stdout",
     "output_type": "stream",
     "text": [
      "5e0c586f047ff909c8ed3fe171c8975a90608d08: Background: Porcine epidemic diarrhea virus (PEDV) is emerging as a pathogenic coronavirus that causes a huge economic burden to the swine industry. Interaction of the viral spike (S) surface glycopro... Porcine epidemic diarrhea virus (PEDV), which belongs to the Alphacoronavirus genus of the Coronaviridae family, is an etiological agent of porcine epidemic diarrhea (PED) and causes an enteric diseas...\n"
     ]
    }
   ],
   "source": [
    "import json\n",
    "class FileReader:\n",
    "    def __init__(self, file_path):\n",
    "        with open(file_path) as file:\n",
    "            content = json.load(file)\n",
    "            self.paper_id = content['paper_id']\n",
    "            self.abstract = []\n",
    "            self.body_text = []\n",
    "            # Abstract\n",
    "            for entry in content['abstract']:\n",
    "                self.abstract.append(entry['text'])\n",
    "            # Body text\n",
    "            for entry in content['body_text']:\n",
    "                self.body_text.append(entry['text'])\n",
    "            self.abstract = '\\n'.join(self.abstract)\n",
    "            self.body_text = '\\n'.join(self.body_text)\n",
    "    def __repr__(self):\n",
    "        return f'{self.paper_id}: {self.abstract[:200]}... {self.body_text[:200]}...'\n",
    "first_row = FileReader(all_json[0])\n",
    "print(first_row)"
   ]
  },
  {
   "cell_type": "code",
   "execution_count": 8,
   "metadata": {},
   "outputs": [],
   "source": [
    "def get_breaks(content, length):\n",
    "    data = \"\"\n",
    "    words = content.split(' ')\n",
    "    total_chars = 0\n",
    "\n",
    "    # add break every length characters\n",
    "    for i in range(len(words)):\n",
    "        total_chars += len(words[i])\n",
    "        if total_chars > length:\n",
    "            data = data + \"<br>\" + words[i]\n",
    "            total_chars = 0\n",
    "        else:\n",
    "            data = data + \" \" + words[i]\n",
    "    return data"
   ]
  },
  {
   "cell_type": "code",
   "execution_count": 9,
   "metadata": {},
   "outputs": [],
   "source": [
    "dict_ = {'paper_id': [], 'doi': [], 'abstract': [], 'body_text': [], 'authors': [], 'title': [], 'journal': [], 'abstract_summary': []}"
   ]
  },
  {
   "cell_type": "code",
   "execution_count": 10,
   "metadata": {},
   "outputs": [
    {
     "name": "stdout",
     "output_type": "stream",
     "text": [
      "Processing index: 0 of 58662\n",
      "Processing index: 5866 of 58662\n",
      "Processing index: 11732 of 58662\n",
      "Processing index: 17598 of 58662\n",
      "Processing index: 23464 of 58662\n",
      "Processing index: 29330 of 58662\n",
      "Processing index: 35196 of 58662\n",
      "Processing index: 41062 of 58662\n",
      "Processing index: 46928 of 58662\n",
      "Processing index: 52794 of 58662\n",
      "Processing index: 58660 of 58662\n"
     ]
    },
    {
     "data": {
      "text/html": [
       "<div>\n",
       "<style scoped>\n",
       "    .dataframe tbody tr th:only-of-type {\n",
       "        vertical-align: middle;\n",
       "    }\n",
       "\n",
       "    .dataframe tbody tr th {\n",
       "        vertical-align: top;\n",
       "    }\n",
       "\n",
       "    .dataframe thead th {\n",
       "        text-align: right;\n",
       "    }\n",
       "</style>\n",
       "<table border=\"1\" class=\"dataframe\">\n",
       "  <thead>\n",
       "    <tr style=\"text-align: right;\">\n",
       "      <th></th>\n",
       "      <th>paper_id</th>\n",
       "      <th>doi</th>\n",
       "      <th>abstract</th>\n",
       "      <th>body_text</th>\n",
       "      <th>authors</th>\n",
       "      <th>title</th>\n",
       "      <th>journal</th>\n",
       "      <th>abstract_summary</th>\n",
       "    </tr>\n",
       "  </thead>\n",
       "  <tbody>\n",
       "    <tr>\n",
       "      <th>0</th>\n",
       "      <td>5e0c586f047ff909c8ed3fe171c8975a90608d08</td>\n",
       "      <td>10.1186/s12985-018-1042-3</td>\n",
       "      <td>Background: Porcine epidemic diarrhea virus (P...</td>\n",
       "      <td>Porcine epidemic diarrhea virus (PEDV), which ...</td>\n",
       "      <td>Gong, Lang.  Lin, Ying.  Qin, Jianru.  Li,&lt;br...</td>\n",
       "      <td>Neutralizing antibodies against porcine&lt;br&gt;ep...</td>\n",
       "      <td>Virol J</td>\n",
       "      <td>Background: Porcine epidemic diarrhea virus&lt;b...</td>\n",
       "    </tr>\n",
       "    <tr>\n",
       "      <th>1</th>\n",
       "      <td>1579fbff7af9b156c6f49fee0526e48f852ea460</td>\n",
       "      <td>10.1038/s41598-018-30356-2</td>\n",
       "      <td>Currently, live-attenuated IBV vaccines are us...</td>\n",
       "      <td>Generation of rNDVs expressing S1, S2 or S pro...</td>\n",
       "      <td>Shirvani, Edris.  Paldurai, Anandan. &lt;br&gt;Mano...</td>\n",
       "      <td>A Recombinant Newcastle Disease Virus (NDV)&lt;b...</td>\n",
       "      <td>Sci Rep</td>\n",
       "      <td>Currently, live-attenuated IBV vaccines are&lt;b...</td>\n",
       "    </tr>\n",
       "    <tr>\n",
       "      <th>2</th>\n",
       "      <td>e0668c4b793d0cad26639b070819334a94648123</td>\n",
       "      <td>10.3399/bjgpopen18x101493</td>\n",
       "      <td></td>\n",
       "      <td>The incidence of complete Achilles tendon rupt...</td>\n",
       "      <td>Mughal, Faraz.  Chew-Graham, Carolyn A.  Saad...</td>\n",
       "      <td>‘Hajj: what it means for general practice’</td>\n",
       "      <td>BJGP Open</td>\n",
       "      <td>Not provided.</td>\n",
       "    </tr>\n",
       "    <tr>\n",
       "      <th>3</th>\n",
       "      <td>38aa050ad79d8a1d7022c33535255ce9d47914e5</td>\n",
       "      <td>10.1371/journal.pntd.0002933</td>\n",
       "      <td>The new world arenavirus Junín virus (JUNV) is...</td>\n",
       "      <td>Arenaviruses are enveloped RNA viruses with bi...</td>\n",
       "      <td>Huang, Cheng.  Walker, Aida G..  Grant, Ashle...</td>\n",
       "      <td>Potent Inhibition of Junín Virus Infection by...</td>\n",
       "      <td>PLoS Negl Trop Dis</td>\n",
       "      <td>The new world arenavirus Junín virus (JUNV) i...</td>\n",
       "    </tr>\n",
       "    <tr>\n",
       "      <th>4</th>\n",
       "      <td>61722c462b054f36461375e96e502cbf22648c04</td>\n",
       "      <td>10.1038/s41598-019-45095-1</td>\n",
       "      <td>and subtropical countries and is a significant...</td>\n",
       "      <td>In this study, the anti-dengue activity of nic...</td>\n",
       "      <td>Jung, Eunhye.  Nam, Sangwoo.  Oh, Hyeryeon.  ...</td>\n",
       "      <td>Neutralization of Acidic Intracellular&lt;br&gt;Ves...</td>\n",
       "      <td>Sci Rep</td>\n",
       "      <td>and subtropical countries and is a significan...</td>\n",
       "    </tr>\n",
       "  </tbody>\n",
       "</table>\n",
       "</div>"
      ],
      "text/plain": [
       "                                   paper_id                           doi  \\\n",
       "0  5e0c586f047ff909c8ed3fe171c8975a90608d08     10.1186/s12985-018-1042-3   \n",
       "1  1579fbff7af9b156c6f49fee0526e48f852ea460    10.1038/s41598-018-30356-2   \n",
       "2  e0668c4b793d0cad26639b070819334a94648123     10.3399/bjgpopen18x101493   \n",
       "3  38aa050ad79d8a1d7022c33535255ce9d47914e5  10.1371/journal.pntd.0002933   \n",
       "4  61722c462b054f36461375e96e502cbf22648c04    10.1038/s41598-019-45095-1   \n",
       "\n",
       "                                            abstract  \\\n",
       "0  Background: Porcine epidemic diarrhea virus (P...   \n",
       "1  Currently, live-attenuated IBV vaccines are us...   \n",
       "2                                                      \n",
       "3  The new world arenavirus Junín virus (JUNV) is...   \n",
       "4  and subtropical countries and is a significant...   \n",
       "\n",
       "                                           body_text  \\\n",
       "0  Porcine epidemic diarrhea virus (PEDV), which ...   \n",
       "1  Generation of rNDVs expressing S1, S2 or S pro...   \n",
       "2  The incidence of complete Achilles tendon rupt...   \n",
       "3  Arenaviruses are enveloped RNA viruses with bi...   \n",
       "4  In this study, the anti-dengue activity of nic...   \n",
       "\n",
       "                                             authors  \\\n",
       "0   Gong, Lang.  Lin, Ying.  Qin, Jianru.  Li,<br...   \n",
       "1   Shirvani, Edris.  Paldurai, Anandan. <br>Mano...   \n",
       "2   Mughal, Faraz.  Chew-Graham, Carolyn A.  Saad...   \n",
       "3   Huang, Cheng.  Walker, Aida G..  Grant, Ashle...   \n",
       "4   Jung, Eunhye.  Nam, Sangwoo.  Oh, Hyeryeon.  ...   \n",
       "\n",
       "                                               title             journal  \\\n",
       "0   Neutralizing antibodies against porcine<br>ep...             Virol J   \n",
       "1   A Recombinant Newcastle Disease Virus (NDV)<b...             Sci Rep   \n",
       "2         ‘Hajj: what it means for general practice’           BJGP Open   \n",
       "3   Potent Inhibition of Junín Virus Infection by...  PLoS Negl Trop Dis   \n",
       "4   Neutralization of Acidic Intracellular<br>Ves...             Sci Rep   \n",
       "\n",
       "                                    abstract_summary  \n",
       "0   Background: Porcine epidemic diarrhea virus<b...  \n",
       "1   Currently, live-attenuated IBV vaccines are<b...  \n",
       "2                                      Not provided.  \n",
       "3   The new world arenavirus Junín virus (JUNV) i...  \n",
       "4   and subtropical countries and is a significan...  "
      ]
     },
     "execution_count": 10,
     "metadata": {},
     "output_type": "execute_result"
    }
   ],
   "source": [
    "meta_df = metaData\n",
    "dict_ = {'paper_id': [], 'doi':[], 'abstract': [], 'body_text': [], 'authors': [], 'title': [], 'journal': [], 'abstract_summary': []}\n",
    "for idx, entry in enumerate(all_json):\n",
    "    if idx % (len(all_json) // 10) == 0:\n",
    "        print(f'Processing index: {idx} of {len(all_json)}')\n",
    "    \n",
    "    try:\n",
    "        content = FileReader(entry)\n",
    "    except Exception as e:\n",
    "        continue  # invalid paper format, skip\n",
    "    \n",
    "    # get metadata information\n",
    "    meta_data = meta_df.loc[meta_df['sha'] == content.paper_id]\n",
    "    # no metadata, skip this paper\n",
    "    if len(meta_data) == 0:\n",
    "        continue\n",
    "    \n",
    "    dict_['abstract'].append(content.abstract)\n",
    "    dict_['paper_id'].append(content.paper_id)\n",
    "    dict_['body_text'].append(content.body_text)\n",
    "    \n",
    "    # also create a column for the summary of abstract to be used in a plot\n",
    "    if len(content.abstract) == 0: \n",
    "        # no abstract provided\n",
    "        dict_['abstract_summary'].append(\"Not provided.\")\n",
    "    elif len(content.abstract.split(' ')) > 100:\n",
    "        # abstract provided is too long for plot, take first 100 words append with ...\n",
    "        info = content.abstract.split(' ')[:100]\n",
    "        summary = get_breaks(' '.join(info), 40)\n",
    "        dict_['abstract_summary'].append(summary + \"...\")\n",
    "    else:\n",
    "        # abstract is short enough\n",
    "        summary = get_breaks(content.abstract, 40)\n",
    "        dict_['abstract_summary'].append(summary)\n",
    "        \n",
    "    # get metadata information\n",
    "    meta_data = meta_df.loc[meta_df['sha'] == content.paper_id]\n",
    "    \n",
    "    try:\n",
    "        # if more than one author\n",
    "        authors = meta_data['authors'].values[0].split(';')\n",
    "        if len(authors) > 2:\n",
    "            # if more than 2 authors, take them all with html tag breaks in between\n",
    "            dict_['authors'].append(get_breaks('. '.join(authors), 40))\n",
    "        else:\n",
    "            # authors will fit in plot\n",
    "            dict_['authors'].append(\". \".join(authors))\n",
    "    except Exception as e:\n",
    "        # if only one author - or Null valie\n",
    "        dict_['authors'].append(meta_data['authors'].values[0])\n",
    "    \n",
    "    # add the title information, add breaks when needed\n",
    "    try:\n",
    "        title = get_breaks(meta_data['title'].values[0], 40)\n",
    "        dict_['title'].append(title)\n",
    "    # if title was not provided\n",
    "    except Exception as e:\n",
    "        dict_['title'].append(meta_data['title'].values[0])\n",
    "    \n",
    "    # add the journal information\n",
    "    dict_['journal'].append(meta_data['journal'].values[0])\n",
    "    \n",
    "    # add doi\n",
    "    dict_['doi'].append(meta_data['doi'].values[0])\n",
    "    \n",
    "df_covid = pd.DataFrame(dict_, columns=['paper_id', 'doi', 'abstract', 'body_text', 'authors', 'title', 'journal', 'abstract_summary'])\n",
    "df_covid.head()"
   ]
  },
  {
   "cell_type": "code",
   "execution_count": 11,
   "metadata": {},
   "outputs": [],
   "source": [
    "df_covid['abstracrt_count'] = df_covid['abstract'].apply(lambda x: len(x.strip().split()))\n",
    "df_covid['body_count'] = df_covid['body_text'].apply(lambda x: len(x.strip().split()))\n",
    "df_covid['body_unique_words'] = df_covid['body_text'].apply(lambda x: len(x.strip().split()))"
   ]
  },
  {
   "cell_type": "code",
   "execution_count": 12,
   "metadata": {},
   "outputs": [
    {
     "name": "stdout",
     "output_type": "stream",
     "text": [
      "<class 'pandas.core.frame.DataFrame'>\n",
      "RangeIndex: 35023 entries, 0 to 35022\n",
      "Data columns (total 11 columns):\n",
      " #   Column             Non-Null Count  Dtype \n",
      "---  ------             --------------  ----- \n",
      " 0   paper_id           35023 non-null  object\n",
      " 1   doi                34685 non-null  object\n",
      " 2   abstract           35023 non-null  object\n",
      " 3   body_text          35023 non-null  object\n",
      " 4   authors            34423 non-null  object\n",
      " 5   title              34987 non-null  object\n",
      " 6   journal            34854 non-null  object\n",
      " 7   abstract_summary   35023 non-null  object\n",
      " 8   abstracrt_count    35023 non-null  int64 \n",
      " 9   body_count         35023 non-null  int64 \n",
      " 10  body_unique_words  35023 non-null  int64 \n",
      "dtypes: int64(3), object(8)\n",
      "memory usage: 2.9+ MB\n"
     ]
    }
   ],
   "source": [
    "df_covid.info()"
   ]
  },
  {
   "cell_type": "code",
   "execution_count": 13,
   "metadata": {},
   "outputs": [
    {
     "data": {
      "text/plain": [
       "count     35023\n",
       "unique    25126\n",
       "top            \n",
       "freq       9847\n",
       "Name: abstract, dtype: object"
      ]
     },
     "execution_count": 13,
     "metadata": {},
     "output_type": "execute_result"
    }
   ],
   "source": [
    "df_covid['abstract'].describe(include='all')"
   ]
  },
  {
   "cell_type": "code",
   "execution_count": 14,
   "metadata": {},
   "outputs": [
    {
     "data": {
      "text/plain": [
       "count     35000\n",
       "unique    25126\n",
       "top            \n",
       "freq       9835\n",
       "Name: abstract, dtype: object"
      ]
     },
     "execution_count": 14,
     "metadata": {},
     "output_type": "execute_result"
    }
   ],
   "source": [
    "df_covid.drop_duplicates(['abstract', 'body_text'], inplace=True)\n",
    "df_covid['abstract'].describe(include='all')"
   ]
  },
  {
   "cell_type": "code",
   "execution_count": 15,
   "metadata": {},
   "outputs": [
    {
     "data": {
      "text/plain": [
       "count                                                 35000\n",
       "unique                                                34994\n",
       "top       A substantial proportion of hitherto unexplain...\n",
       "freq                                                      2\n",
       "Name: body_text, dtype: object"
      ]
     },
     "execution_count": 15,
     "metadata": {},
     "output_type": "execute_result"
    }
   ],
   "source": [
    "df_covid['body_text'].describe(include='all')"
   ]
  },
  {
   "cell_type": "code",
   "execution_count": 16,
   "metadata": {},
   "outputs": [
    {
     "data": {
      "text/html": [
       "<div>\n",
       "<style scoped>\n",
       "    .dataframe tbody tr th:only-of-type {\n",
       "        vertical-align: middle;\n",
       "    }\n",
       "\n",
       "    .dataframe tbody tr th {\n",
       "        vertical-align: top;\n",
       "    }\n",
       "\n",
       "    .dataframe thead th {\n",
       "        text-align: right;\n",
       "    }\n",
       "</style>\n",
       "<table border=\"1\" class=\"dataframe\">\n",
       "  <thead>\n",
       "    <tr style=\"text-align: right;\">\n",
       "      <th></th>\n",
       "      <th>paper_id</th>\n",
       "      <th>doi</th>\n",
       "      <th>abstract</th>\n",
       "      <th>body_text</th>\n",
       "      <th>authors</th>\n",
       "      <th>title</th>\n",
       "      <th>journal</th>\n",
       "      <th>abstract_summary</th>\n",
       "      <th>abstracrt_count</th>\n",
       "      <th>body_count</th>\n",
       "      <th>body_unique_words</th>\n",
       "    </tr>\n",
       "  </thead>\n",
       "  <tbody>\n",
       "    <tr>\n",
       "      <th>0</th>\n",
       "      <td>5e0c586f047ff909c8ed3fe171c8975a90608d08</td>\n",
       "      <td>10.1186/s12985-018-1042-3</td>\n",
       "      <td>Background: Porcine epidemic diarrhea virus (P...</td>\n",
       "      <td>Porcine epidemic diarrhea virus (PEDV), which ...</td>\n",
       "      <td>Gong, Lang.  Lin, Ying.  Qin, Jianru.  Li,&lt;br...</td>\n",
       "      <td>Neutralizing antibodies against porcine&lt;br&gt;ep...</td>\n",
       "      <td>Virol J</td>\n",
       "      <td>Background: Porcine epidemic diarrhea virus&lt;b...</td>\n",
       "      <td>211</td>\n",
       "      <td>3824</td>\n",
       "      <td>3824</td>\n",
       "    </tr>\n",
       "    <tr>\n",
       "      <th>1</th>\n",
       "      <td>1579fbff7af9b156c6f49fee0526e48f852ea460</td>\n",
       "      <td>10.1038/s41598-018-30356-2</td>\n",
       "      <td>Currently, live-attenuated IBV vaccines are us...</td>\n",
       "      <td>Generation of rNDVs expressing S1, S2 or S pro...</td>\n",
       "      <td>Shirvani, Edris.  Paldurai, Anandan. &lt;br&gt;Mano...</td>\n",
       "      <td>A Recombinant Newcastle Disease Virus (NDV)&lt;b...</td>\n",
       "      <td>Sci Rep</td>\n",
       "      <td>Currently, live-attenuated IBV vaccines are&lt;b...</td>\n",
       "      <td>945</td>\n",
       "      <td>7372</td>\n",
       "      <td>7372</td>\n",
       "    </tr>\n",
       "    <tr>\n",
       "      <th>2</th>\n",
       "      <td>e0668c4b793d0cad26639b070819334a94648123</td>\n",
       "      <td>10.3399/bjgpopen18x101493</td>\n",
       "      <td></td>\n",
       "      <td>The incidence of complete Achilles tendon rupt...</td>\n",
       "      <td>Mughal, Faraz.  Chew-Graham, Carolyn A.  Saad...</td>\n",
       "      <td>‘Hajj: what it means for general practice’</td>\n",
       "      <td>BJGP Open</td>\n",
       "      <td>Not provided.</td>\n",
       "      <td>0</td>\n",
       "      <td>2972</td>\n",
       "      <td>2972</td>\n",
       "    </tr>\n",
       "    <tr>\n",
       "      <th>3</th>\n",
       "      <td>38aa050ad79d8a1d7022c33535255ce9d47914e5</td>\n",
       "      <td>10.1371/journal.pntd.0002933</td>\n",
       "      <td>The new world arenavirus Junín virus (JUNV) is...</td>\n",
       "      <td>Arenaviruses are enveloped RNA viruses with bi...</td>\n",
       "      <td>Huang, Cheng.  Walker, Aida G..  Grant, Ashle...</td>\n",
       "      <td>Potent Inhibition of Junín Virus Infection by...</td>\n",
       "      <td>PLoS Negl Trop Dis</td>\n",
       "      <td>The new world arenavirus Junín virus (JUNV) i...</td>\n",
       "      <td>160</td>\n",
       "      <td>3194</td>\n",
       "      <td>3194</td>\n",
       "    </tr>\n",
       "    <tr>\n",
       "      <th>4</th>\n",
       "      <td>61722c462b054f36461375e96e502cbf22648c04</td>\n",
       "      <td>10.1038/s41598-019-45095-1</td>\n",
       "      <td>and subtropical countries and is a significant...</td>\n",
       "      <td>In this study, the anti-dengue activity of nic...</td>\n",
       "      <td>Jung, Eunhye.  Nam, Sangwoo.  Oh, Hyeryeon.  ...</td>\n",
       "      <td>Neutralization of Acidic Intracellular&lt;br&gt;Ves...</td>\n",
       "      <td>Sci Rep</td>\n",
       "      <td>and subtropical countries and is a significan...</td>\n",
       "      <td>897</td>\n",
       "      <td>4095</td>\n",
       "      <td>4095</td>\n",
       "    </tr>\n",
       "  </tbody>\n",
       "</table>\n",
       "</div>"
      ],
      "text/plain": [
       "                                   paper_id                           doi  \\\n",
       "0  5e0c586f047ff909c8ed3fe171c8975a90608d08     10.1186/s12985-018-1042-3   \n",
       "1  1579fbff7af9b156c6f49fee0526e48f852ea460    10.1038/s41598-018-30356-2   \n",
       "2  e0668c4b793d0cad26639b070819334a94648123     10.3399/bjgpopen18x101493   \n",
       "3  38aa050ad79d8a1d7022c33535255ce9d47914e5  10.1371/journal.pntd.0002933   \n",
       "4  61722c462b054f36461375e96e502cbf22648c04    10.1038/s41598-019-45095-1   \n",
       "\n",
       "                                            abstract  \\\n",
       "0  Background: Porcine epidemic diarrhea virus (P...   \n",
       "1  Currently, live-attenuated IBV vaccines are us...   \n",
       "2                                                      \n",
       "3  The new world arenavirus Junín virus (JUNV) is...   \n",
       "4  and subtropical countries and is a significant...   \n",
       "\n",
       "                                           body_text  \\\n",
       "0  Porcine epidemic diarrhea virus (PEDV), which ...   \n",
       "1  Generation of rNDVs expressing S1, S2 or S pro...   \n",
       "2  The incidence of complete Achilles tendon rupt...   \n",
       "3  Arenaviruses are enveloped RNA viruses with bi...   \n",
       "4  In this study, the anti-dengue activity of nic...   \n",
       "\n",
       "                                             authors  \\\n",
       "0   Gong, Lang.  Lin, Ying.  Qin, Jianru.  Li,<br...   \n",
       "1   Shirvani, Edris.  Paldurai, Anandan. <br>Mano...   \n",
       "2   Mughal, Faraz.  Chew-Graham, Carolyn A.  Saad...   \n",
       "3   Huang, Cheng.  Walker, Aida G..  Grant, Ashle...   \n",
       "4   Jung, Eunhye.  Nam, Sangwoo.  Oh, Hyeryeon.  ...   \n",
       "\n",
       "                                               title             journal  \\\n",
       "0   Neutralizing antibodies against porcine<br>ep...             Virol J   \n",
       "1   A Recombinant Newcastle Disease Virus (NDV)<b...             Sci Rep   \n",
       "2         ‘Hajj: what it means for general practice’           BJGP Open   \n",
       "3   Potent Inhibition of Junín Virus Infection by...  PLoS Negl Trop Dis   \n",
       "4   Neutralization of Acidic Intracellular<br>Ves...             Sci Rep   \n",
       "\n",
       "                                    abstract_summary  abstracrt_count  \\\n",
       "0   Background: Porcine epidemic diarrhea virus<b...              211   \n",
       "1   Currently, live-attenuated IBV vaccines are<b...              945   \n",
       "2                                      Not provided.                0   \n",
       "3   The new world arenavirus Junín virus (JUNV) i...              160   \n",
       "4   and subtropical countries and is a significan...              897   \n",
       "\n",
       "   body_count  body_unique_words  \n",
       "0        3824               3824  \n",
       "1        7372               7372  \n",
       "2        2972               2972  \n",
       "3        3194               3194  \n",
       "4        4095               4095  "
      ]
     },
     "execution_count": 16,
     "metadata": {},
     "output_type": "execute_result"
    }
   ],
   "source": [
    "df_covid.head()"
   ]
  },
  {
   "cell_type": "code",
   "execution_count": 17,
   "metadata": {},
   "outputs": [
    {
     "data": {
      "text/html": [
       "<div>\n",
       "<style scoped>\n",
       "    .dataframe tbody tr th:only-of-type {\n",
       "        vertical-align: middle;\n",
       "    }\n",
       "\n",
       "    .dataframe tbody tr th {\n",
       "        vertical-align: top;\n",
       "    }\n",
       "\n",
       "    .dataframe thead th {\n",
       "        text-align: right;\n",
       "    }\n",
       "</style>\n",
       "<table border=\"1\" class=\"dataframe\">\n",
       "  <thead>\n",
       "    <tr style=\"text-align: right;\">\n",
       "      <th></th>\n",
       "      <th>abstracrt_count</th>\n",
       "      <th>body_count</th>\n",
       "      <th>body_unique_words</th>\n",
       "    </tr>\n",
       "  </thead>\n",
       "  <tbody>\n",
       "    <tr>\n",
       "      <th>count</th>\n",
       "      <td>35000.000000</td>\n",
       "      <td>35000.000000</td>\n",
       "      <td>35000.000000</td>\n",
       "    </tr>\n",
       "    <tr>\n",
       "      <th>mean</th>\n",
       "      <td>155.885857</td>\n",
       "      <td>4748.334543</td>\n",
       "      <td>4748.334543</td>\n",
       "    </tr>\n",
       "    <tr>\n",
       "      <th>std</th>\n",
       "      <td>157.350459</td>\n",
       "      <td>7035.270559</td>\n",
       "      <td>7035.270559</td>\n",
       "    </tr>\n",
       "    <tr>\n",
       "      <th>min</th>\n",
       "      <td>0.000000</td>\n",
       "      <td>1.000000</td>\n",
       "      <td>1.000000</td>\n",
       "    </tr>\n",
       "    <tr>\n",
       "      <th>25%</th>\n",
       "      <td>0.000000</td>\n",
       "      <td>2388.000000</td>\n",
       "      <td>2388.000000</td>\n",
       "    </tr>\n",
       "    <tr>\n",
       "      <th>50%</th>\n",
       "      <td>155.000000</td>\n",
       "      <td>3678.000000</td>\n",
       "      <td>3678.000000</td>\n",
       "    </tr>\n",
       "    <tr>\n",
       "      <th>75%</th>\n",
       "      <td>233.000000</td>\n",
       "      <td>5499.000000</td>\n",
       "      <td>5499.000000</td>\n",
       "    </tr>\n",
       "    <tr>\n",
       "      <th>max</th>\n",
       "      <td>4767.000000</td>\n",
       "      <td>260378.000000</td>\n",
       "      <td>260378.000000</td>\n",
       "    </tr>\n",
       "  </tbody>\n",
       "</table>\n",
       "</div>"
      ],
      "text/plain": [
       "       abstracrt_count     body_count  body_unique_words\n",
       "count     35000.000000   35000.000000       35000.000000\n",
       "mean        155.885857    4748.334543        4748.334543\n",
       "std         157.350459    7035.270559        7035.270559\n",
       "min           0.000000       1.000000           1.000000\n",
       "25%           0.000000    2388.000000        2388.000000\n",
       "50%         155.000000    3678.000000        3678.000000\n",
       "75%         233.000000    5499.000000        5499.000000\n",
       "max        4767.000000  260378.000000      260378.000000"
      ]
     },
     "execution_count": 17,
     "metadata": {},
     "output_type": "execute_result"
    }
   ],
   "source": [
    "df_covid.describe()"
   ]
  },
  {
   "cell_type": "code",
   "execution_count": 18,
   "metadata": {},
   "outputs": [],
   "source": [
    "df = df_covid\n",
    "del df_covid"
   ]
  },
  {
   "cell_type": "code",
   "execution_count": 19,
   "metadata": {},
   "outputs": [
    {
     "name": "stdout",
     "output_type": "stream",
     "text": [
      "<class 'pandas.core.frame.DataFrame'>\n",
      "Int64Index: 34023 entries, 0 to 35021\n",
      "Data columns (total 11 columns):\n",
      " #   Column             Non-Null Count  Dtype \n",
      "---  ------             --------------  ----- \n",
      " 0   paper_id           34023 non-null  object\n",
      " 1   doi                34023 non-null  object\n",
      " 2   abstract           34023 non-null  object\n",
      " 3   body_text          34023 non-null  object\n",
      " 4   authors            34023 non-null  object\n",
      " 5   title              34023 non-null  object\n",
      " 6   journal            34023 non-null  object\n",
      " 7   abstract_summary   34023 non-null  object\n",
      " 8   abstracrt_count    34023 non-null  int64 \n",
      " 9   body_count         34023 non-null  int64 \n",
      " 10  body_unique_words  34023 non-null  int64 \n",
      "dtypes: int64(3), object(8)\n",
      "memory usage: 3.1+ MB\n"
     ]
    }
   ],
   "source": [
    "df.dropna(inplace=True)\n",
    "df.info()"
   ]
  },
  {
   "cell_type": "code",
   "execution_count": 20,
   "metadata": {},
   "outputs": [
    {
     "name": "stderr",
     "output_type": "stream",
     "text": [
      "100%|██████████| 34023/34023 [03:15<00:00, 174.21it/s]\n"
     ]
    }
   ],
   "source": [
    "from tqdm import tqdm\n",
    "from langdetect import detect\n",
    "from langdetect import DetectorFactory\n",
    "\n",
    "DetectorFactory.seed = 0\n",
    "\n",
    "languages = []\n",
    "for ii in tqdm(range(0, len(df))):\n",
    "    text = df.iloc[ii]['body_text'].split(\" \")\n",
    "    lang = 'en'\n",
    "    try:\n",
    "        if len(text) > 50:\n",
    "            lang = detect(\" \".join(text[:50]))\n",
    "        elif len(text) > 0:\n",
    "            lang = detect(\" \".join(text[:len(text)]))\n",
    "    except Exception as e:\n",
    "        all_words = set(text)\n",
    "        try:\n",
    "            lang = detect(' '.join(all_words))\n",
    "        except Exception as e:\n",
    "            try:\n",
    "                lang = detect(df.iloc[ii]['abstract_summary'])\n",
    "            except Exception as e:\n",
    "                lang = 'unknown'\n",
    "                pass\n",
    "    languages.append(lang)"
   ]
  },
  {
   "cell_type": "code",
   "execution_count": 21,
   "metadata": {},
   "outputs": [
    {
     "name": "stdout",
     "output_type": "stream",
     "text": [
      "Total: 34023\n",
      "\n",
      "{'af': 1,\n",
      " 'ca': 2,\n",
      " 'cy': 4,\n",
      " 'de': 111,\n",
      " 'en': 33183,\n",
      " 'es': 306,\n",
      " 'fr': 345,\n",
      " 'it': 15,\n",
      " 'nl': 39,\n",
      " 'pl': 2,\n",
      " 'pt': 14,\n",
      " 'zh-cn': 1}\n"
     ]
    }
   ],
   "source": [
    "from pprint import pprint\n",
    "\n",
    "languages_dict = {}\n",
    "for lang in set(languages):\n",
    "    languages_dict[lang] = languages.count(lang)\n",
    "print(f'Total: {len(languages)}\\n')\n",
    "pprint(languages_dict)"
   ]
  },
  {
   "cell_type": "code",
   "execution_count": 42,
   "metadata": {},
   "outputs": [],
   "source": [
    "# Papers distribution by their language\n",
    "import matplotlib.pyplot as plt\n",
    "df['languages'] = languages\n",
    "dictLang = df['languages'].value_counts().to_dict()\n",
    "keys = []\n",
    "values = []\n",
    "for key, value in dictLang.items():\n",
    "    keys.append(key)\n",
    "    values.append(value)"
   ]
  },
  {
   "cell_type": "markdown",
   "metadata": {},
   "source": [
    "### As we can see significantly that most of the papers are published in english language."
   ]
  },
  {
   "cell_type": "code",
   "execution_count": 50,
   "metadata": {},
   "outputs": [
    {
     "data": {
      "image/png": "[encoded data removed]",
      "text/plain": [
       "<Figure size 432x288 with 1 Axes>"
      ]
     },
     "metadata": {
      "needs_background": "light"
     },
     "output_type": "display_data"
    }
   ],
   "source": [
    "plt.bar(keys, values)\n",
    "plt.title('Language distribution')\n",
    "plt.xlabel('Language', fontsize = 15)\n",
    "plt.ylabel('Paper count', fontsize = 15)\n",
    "plt.show()"
   ]
  },
  {
   "cell_type": "code",
   "execution_count": 56,
   "metadata": {},
   "outputs": [],
   "source": [
    "# For simplicity we are dropping all non-english papers\n",
    "# We are dropping 840 papers.\n",
    "dfEnglish = df[df['languages'] == 'en']"
   ]
  },
  {
   "cell_type": "code",
   "execution_count": 62,
   "metadata": {},
   "outputs": [],
   "source": [
    "# Download spacy library.\n",
    "# Spacy refernce: https://spacy.io\n",
    "from spacy.lang.en.stop_words import STOP_WORDS\n",
    "import en_core_web_lg"
   ]
  },
  {
   "cell_type": "code",
   "execution_count": 63,
   "metadata": {},
   "outputs": [],
   "source": [
    "# Stop words contain no meaning and due to that they create overhead while creating row vector. \n",
    "# So to remove them is one of the important step in text pre-precessing"
   ]
  },
  {
   "cell_type": "code",
   "execution_count": 70,
   "metadata": {},
   "outputs": [
    {
     "name": "stdout",
     "output_type": "stream",
     "text": [
      "There are total 326 stop words in this set.\n"
     ]
    }
   ],
   "source": [
    "print(f\"There are total {len(STOP_WORDS)} stop words in this set.\")"
   ]
  },
  {
   "cell_type": "code",
   "execution_count": 202,
   "metadata": {},
   "outputs": [],
   "source": [
    "# Remove stop words, punctuation, converts every letter to lower case and tokenize them.\n",
    "import string\n",
    "punct = string.punctuation\n",
    "stopWords = list(STOP_WORDS)\n",
    "parser = en_core_web_lg.load(disable=['tagger', 'ner'])\n",
    "parser.max_length = 7000000\n",
    "# iterate = 0"
   ]
  },
  {
   "cell_type": "code",
   "execution_count": 186,
   "metadata": {},
   "outputs": [],
   "source": [
    "def tokenizer(text):\n",
    "    temp = parser(text)\n",
    "    temp = [word.lemma_.lower().strip() if word.lemma_ != \"-PRON-\" else word.lower_ for word in temp]\n",
    "    temp = [word for word in temp if word not in stopWords and word not in punct]\n",
    "    print('Done')\n",
    "    return temp"
   ]
  },
  {
   "cell_type": "code",
   "execution_count": 192,
   "metadata": {},
   "outputs": [],
   "source": [
    "tqdm.pandas()\n",
    "dfEnglish['tokenized'] = dfEnglish['body_text'].progress_apply(tokenizer)"
   ]
  },
  {
   "cell_type": "code",
   "execution_count": null,
   "metadata": {},
   "outputs": [],
   "source": []
  },
  {
   "cell_type": "code",
   "execution_count": null,
   "metadata": {},
   "outputs": [],
   "source": []
  },
  {
   "cell_type": "code",
   "execution_count": null,
   "metadata": {},
   "outputs": [],
   "source": []
  }
 ],
 "metadata": {
  "kernelspec": {
   "display_name": "Python 3",
   "language": "python",
   "name": "python3"
  },
  "language_info": {
   "codemirror_mode": {
    "name": "ipython",
    "version": 3
   },
   "file_extension": ".py",
   "mimetype": "text/x-python",
   "name": "python",
   "nbconvert_exporter": "python",
   "pygments_lexer": "ipython3",
   "version": "3.7.3"
  }
 },
 "nbformat": 4,
 "nbformat_minor": 4
}
