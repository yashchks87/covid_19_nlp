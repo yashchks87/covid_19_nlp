{
 "cells": [
  {
   "cell_type": "code",
   "execution_count": 1,
   "metadata": {},
   "outputs": [],
   "source": [
    "import pandas as pd\n",
    "import numpy as np"
   ]
  },
  {
   "cell_type": "code",
   "execution_count": 2,
   "metadata": {},
   "outputs": [],
   "source": [
    "from pyspark.sql import SparkSession"
   ]
  },
  {
   "cell_type": "code",
   "execution_count": 3,
   "metadata": {},
   "outputs": [],
   "source": [
    "spark = SparkSession.builder.appName('Covid').getOrCreate()"
   ]
  },
  {
   "cell_type": "code",
   "execution_count": 11,
   "metadata": {},
   "outputs": [],
   "source": [
    "data = spark.read.json('All/data/biorxiv_medrxiv/biorxiv_medrxiv/pdf_json/00340eea543336d54adda18236424de6a5e91c9d.json', multiLine= True)"
   ]
  },
  {
   "cell_type": "code",
   "execution_count": 12,
   "metadata": {},
   "outputs": [
    {
     "name": "stdout",
     "output_type": "stream",
     "text": [
      "+--------------------+-----------+--------------------+--------------------+--------------------+--------------------+--------------------+\n",
      "|            abstract|back_matter|         bib_entries|           body_text|            metadata|            paper_id|         ref_entries|\n",
      "+--------------------+-----------+--------------------+--------------------+--------------------+--------------------+--------------------+\n",
      "|[[[], [], Abstrac...|         []|[[[], , , b0, Sit...|[[[], [], , In De...|[[[[University of...|00340eea543336d54...|[[, MS is support...|\n",
      "+--------------------+-----------+--------------------+--------------------+--------------------+--------------------+--------------------+\n",
      "\n"
     ]
    }
   ],
   "source": [
    "data.show()"
   ]
  },
  {
   "cell_type": "code",
   "execution_count": 17,
   "metadata": {},
   "outputs": [],
   "source": [
    "metadata = spark.read.csv('All/data/metadata.csv', inferSchema=True, header=True)"
   ]
  },
  {
   "cell_type": "code",
   "execution_count": 33,
   "metadata": {},
   "outputs": [
    {
     "data": {
      "text/plain": [
       "52452"
      ]
     },
     "execution_count": 33,
     "metadata": {},
     "output_type": "execute_result"
    }
   ],
   "source": [
    "metadata.count()"
   ]
  },
  {
   "cell_type": "code",
   "execution_count": 25,
   "metadata": {},
   "outputs": [],
   "source": [
    "from pyspark.sql.functions import col"
   ]
  },
  {
   "cell_type": "code",
   "execution_count": 40,
   "metadata": {},
   "outputs": [
    {
     "name": "stdout",
     "output_type": "stream",
     "text": [
      "source_x:  26\n"
     ]
    }
   ],
   "source": [
    "print('source_x: ', metadata.where(col('source_x').isNull()).count())"
   ]
  },
  {
   "cell_type": "code",
   "execution_count": 42,
   "metadata": {},
   "outputs": [],
   "source": [
    "metaDataColumns = metadata.columns"
   ]
  },
  {
   "cell_type": "code",
   "execution_count": 47,
   "metadata": {},
   "outputs": [],
   "source": [
    "# Finding null values from any table\n",
    "def nullValues(dataFrame):\n",
    "    column = dataFrame.columns\n",
    "    for x in column:\n",
    "       print(x, ':', dataFrame.where(col(x).isNull()).count())"
   ]
  },
  {
   "cell_type": "code",
   "execution_count": 48,
   "metadata": {},
   "outputs": [
    {
     "name": "stdout",
     "output_type": "stream",
     "text": [
      "cord_uid : 1\n",
      "sha : 13374\n",
      "source_x : 26\n",
      "title : 189\n",
      "doi : 3375\n",
      "pmcid : 8777\n",
      "pubmed_id : 14372\n",
      "license : 36\n",
      "abstract : 9260\n",
      "publish_time : 46\n",
      "authors : 2314\n",
      "journal : 5230\n",
      "Microsoft Academic Paper ID : 51287\n",
      "WHO #Covidence : 50508\n",
      "has_pdf_parse : 118\n",
      "has_pmc_xml_parse : 118\n",
      "full_text_file : 8655\n",
      "url : 426\n"
     ]
    }
   ],
   "source": [
    "nullValues(metadata)"
   ]
  },
  {
   "cell_type": "code",
   "execution_count": null,
   "metadata": {},
   "outputs": [],
   "source": []
  },
  {
   "cell_type": "code",
   "execution_count": null,
   "metadata": {},
   "outputs": [],
   "source": []
  },
  {
   "cell_type": "code",
   "execution_count": null,
   "metadata": {},
   "outputs": [],
   "source": []
  }
 ],
 "metadata": {
  "kernelspec": {
   "display_name": "Python 3",
   "language": "python",
   "name": "python3"
  },
  "language_info": {
   "codemirror_mode": {
    "name": "ipython",
    "version": 3
   },
   "file_extension": ".py",
   "mimetype": "text/x-python",
   "name": "python",
   "nbconvert_exporter": "python",
   "pygments_lexer": "ipython3",
   "version": "3.7.3"
  }
 },
 "nbformat": 4,
 "nbformat_minor": 4
}
